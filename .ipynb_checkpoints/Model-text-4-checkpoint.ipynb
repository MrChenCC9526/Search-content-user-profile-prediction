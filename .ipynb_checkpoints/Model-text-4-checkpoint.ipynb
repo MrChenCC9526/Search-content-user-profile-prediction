{
 "cells": [
  {
   "cell_type": "code",
   "execution_count": 1,
   "metadata": {},
   "outputs": [],
   "source": [
    "import pandas as pd\n",
    "import sys\n",
    "import os\n",
    "import pickle\n",
    "import config # 自定义配置文件\n",
    "import numpy as np"
   ]
  },
  {
   "cell_type": "code",
   "execution_count": 7,
   "metadata": {},
   "outputs": [],
   "source": [
    "import tensorflow as tf\n",
    "from tensorflow.keras.layers import Dense, Dropout, Activation\n",
    "from tensorflow.python.keras.utils import np_utils\n",
    "import xgboost as xgb\n",
    "from sklearn import svm\n",
    "\n",
    "from sklearn.metrics import accuracy_score\n",
    "from sklearn.model_selection import train_test_split"
   ]
  },
  {
   "cell_type": "code",
   "execution_count": 3,
   "metadata": {},
   "outputs": [],
   "source": [
    "# 传入特征与目标列进行划分训练集与测试集\n",
    "def get_train_test(X,Y):\n",
    "    X_train, X_test,  Y_train, Y_test = train_test_split(X, # 特征\n",
    "                                                         Y, # 目标\n",
    "                                                         test_size = 0.3, # 测试集大小为30%\n",
    "                                                         random_state = 10)\n",
    "    return X_train, X_test,  Y_train, Y_test"
   ]
  },
  {
   "cell_type": "code",
   "execution_count": 4,
   "metadata": {},
   "outputs": [],
   "source": [
    "data = pd.read_csv(config.AF_Data_path + \"AFAfter.csv\")\n",
    "col_list = [\"Education\",\"age\",\"gender\"]"
   ]
  },
  {
   "cell_type": "code",
   "execution_count": 5,
   "metadata": {},
   "outputs": [],
   "source": [
    "W2V_nn_pred_df = pd.read_csv(config.FEData_path + \"W2V_nn.csv\")\n",
    "W2V_HW_pred_df = pd.read_csv(config.FEData_path + \"W2V_HW_nn.csv\")\n",
    "TFIDF_HW_pred_df = pd.read_csv(config.FEData_path + \"TFIDF_HW_nn.csv\")\n",
    "TFIDF_nn_pred_df = pd.read_csv(config.FEData_path + \"TFIDF_nn.csv\")"
   ]
  },
  {
   "cell_type": "code",
   "execution_count": 6,
   "metadata": {},
   "outputs": [],
   "source": [
    "pred_ALL = np.array(pd.concat([W2V_nn_pred_df,W2V_HW_pred_df,TFIDF_HW_pred_df,TFIDF_nn_pred_df,\n",
    "                              data[['SpaceNum', 'SpaceRATIO','LinkNum', 'LinkRATIO', 'TextSum', \n",
    "                                    'TextMax', 'TextMin', 'TextMedian','TextMean', 'SearchNum',]]],axis=1))"
   ]
  },
  {
   "cell_type": "code",
   "execution_count": 8,
   "metadata": {},
   "outputs": [],
   "source": [
    "X_tr, X_te, Y_tr, Y_te = get_train_test(pred_ALL,data[\"Education\"])"
   ]
  },
  {
   "cell_type": "code",
   "execution_count": 9,
   "metadata": {},
   "outputs": [],
   "source": [
    "num_class = len(Y_tr.value_counts()) # 计算目标列类别数量\n",
    "input_num = X_tr.shape[1] # 输入层尺寸"
   ]
  },
  {
   "cell_type": "code",
   "execution_count": 10,
   "metadata": {},
   "outputs": [],
   "source": [
    "# One-Hot编码\n",
    "y_train = np_utils.to_categorical(Y_tr)\n",
    "y_test = np_utils.to_categorical(Y_te)"
   ]
  },
  {
   "cell_type": "code",
   "execution_count": 11,
   "metadata": {
    "scrolled": true
   },
   "outputs": [
    {
     "name": "stdout",
     "output_type": "stream",
     "text": [
      "模型各层的参数状况\n",
      "_________________________________________________________________\n",
      "Layer (type)                 Output Shape              Param #   \n",
      "=================================================================\n",
      "dense (Dense)                (None, 300)               23700     \n",
      "_________________________________________________________________\n",
      "dropout (Dropout)            (None, 300)               0         \n",
      "_________________________________________________________________\n",
      "activation (Activation)      (None, 300)               0         \n",
      "_________________________________________________________________\n",
      "dense_1 (Dense)              (None, 7)                 2107      \n",
      "_________________________________________________________________\n",
      "activation_1 (Activation)    (None, 7)                 0         \n",
      "=================================================================\n",
      "Total params: 25,807\n",
      "Trainable params: 25,807\n",
      "Non-trainable params: 0\n",
      "_________________________________________________________________\n",
      "None\n"
     ]
    }
   ],
   "source": [
    "model = tf.keras.Sequential() # 实例化\n",
    "# 输入层\n",
    "model.add(Dense(300,input_shape=(input_num,))) # 全连接层\n",
    "\n",
    "# 隐含层\n",
    "model.add(Dropout(0.5)) # 随机失活\n",
    "model.add(Activation('tanh')) # 激活函数,tanh\n",
    "model.add(Dense(y_train.shape[1])) # 全连接层\n",
    "\n",
    "# 输出层\n",
    "model.add(Activation('softmax')) # 激活函数,softmax\n",
    "\n",
    "# 配置训练方法\n",
    "model.compile(loss='categorical_crossentropy', # 损失函数，分类交叉熵\n",
    "                      optimizer='adadelta', # 优化器，自适应增量 Adaptive Delta\n",
    "                      metrics=['accuracy']) # 准确率评测，精确度\n",
    "\n",
    "print(\"模型各层的参数状况\")\n",
    "print(model.summary()) # 查看模型"
   ]
  },
  {
   "cell_type": "code",
   "execution_count": 12,
   "metadata": {
    "collapsed": true
   },
   "outputs": [
    {
     "name": "stdout",
     "output_type": "stream",
     "text": [
      "Train on 12355 samples, validate on 5296 samples\n",
      "Epoch 1/35\n",
      " - 1s - loss: 1.4038 - acc: 0.3568 - val_loss: 1.5261 - val_acc: 0.4156\n",
      "Epoch 2/35\n",
      " - 0s - loss: 1.3117 - acc: 0.3841 - val_loss: 1.8038 - val_acc: 0.4156\n",
      "Epoch 3/35\n",
      " - 0s - loss: 1.2857 - acc: 0.3891 - val_loss: 1.4162 - val_acc: 0.4156\n",
      "Epoch 4/35\n",
      " - 0s - loss: 1.2722 - acc: 0.3950 - val_loss: 1.4739 - val_acc: 0.3153\n",
      "Epoch 5/35\n",
      " - 0s - loss: 1.2693 - acc: 0.3986 - val_loss: 1.3338 - val_acc: 0.3148\n",
      "Epoch 6/35\n",
      " - 0s - loss: 1.2654 - acc: 0.4035 - val_loss: 1.4013 - val_acc: 0.4158\n",
      "Epoch 7/35\n",
      " - 0s - loss: 1.2630 - acc: 0.3988 - val_loss: 1.6429 - val_acc: 0.4158\n",
      "Epoch 8/35\n",
      " - 0s - loss: 1.2627 - acc: 0.4011 - val_loss: 1.4598 - val_acc: 0.4158\n",
      "Epoch 9/35\n",
      " - 0s - loss: 1.2652 - acc: 0.4007 - val_loss: 1.4894 - val_acc: 0.3153\n",
      "Epoch 10/35\n",
      " - 0s - loss: 1.2659 - acc: 0.3991 - val_loss: 1.7027 - val_acc: 0.4158\n",
      "Epoch 11/35\n",
      " - 0s - loss: 1.2635 - acc: 0.4049 - val_loss: 1.3947 - val_acc: 0.4156\n",
      "Epoch 12/35\n",
      " - 0s - loss: 1.2622 - acc: 0.4008 - val_loss: 1.3868 - val_acc: 0.4158\n",
      "Epoch 13/35\n",
      " - 0s - loss: 1.2632 - acc: 0.4013 - val_loss: 1.5893 - val_acc: 0.4158\n",
      "Epoch 14/35\n",
      " - 0s - loss: 1.2621 - acc: 0.4057 - val_loss: 1.3779 - val_acc: 0.4158\n",
      "Epoch 15/35\n",
      " - 0s - loss: 1.2615 - acc: 0.4019 - val_loss: 1.5930 - val_acc: 0.2111\n",
      "Epoch 16/35\n",
      " - 0s - loss: 1.2625 - acc: 0.3994 - val_loss: 1.4222 - val_acc: 0.4158\n",
      "Epoch 17/35\n",
      " - 0s - loss: 1.2611 - acc: 0.4038 - val_loss: 1.5453 - val_acc: 0.3153\n",
      "Epoch 18/35\n",
      " - 0s - loss: 1.2607 - acc: 0.3994 - val_loss: 1.5959 - val_acc: 0.4158\n",
      "Epoch 19/35\n",
      " - 0s - loss: 1.2646 - acc: 0.4014 - val_loss: 1.6157 - val_acc: 0.2111\n",
      "Epoch 20/35\n",
      " - 0s - loss: 1.2644 - acc: 0.3998 - val_loss: 1.4887 - val_acc: 0.3155\n",
      "Epoch 21/35\n",
      " - 0s - loss: 1.2611 - acc: 0.3975 - val_loss: 1.5520 - val_acc: 0.4158\n",
      "Epoch 22/35\n",
      " - 0s - loss: 1.2618 - acc: 0.4010 - val_loss: 1.4245 - val_acc: 0.4158\n",
      "Epoch 23/35\n",
      " - 0s - loss: 1.2618 - acc: 0.4000 - val_loss: 1.6490 - val_acc: 0.4158\n",
      "Epoch 24/35\n",
      " - 0s - loss: 1.2619 - acc: 0.4003 - val_loss: 1.5969 - val_acc: 0.4158\n",
      "Epoch 25/35\n",
      " - 0s - loss: 1.2607 - acc: 0.4028 - val_loss: 1.3871 - val_acc: 0.3199\n",
      "Epoch 26/35\n",
      " - 0s - loss: 1.2608 - acc: 0.4048 - val_loss: 1.8262 - val_acc: 0.4158\n",
      "Epoch 27/35\n",
      " - 0s - loss: 1.2610 - acc: 0.4012 - val_loss: 1.8748 - val_acc: 0.4158\n",
      "Epoch 28/35\n",
      " - 0s - loss: 1.2600 - acc: 0.4011 - val_loss: 1.3894 - val_acc: 0.3155\n",
      "Epoch 29/35\n",
      " - 0s - loss: 1.2624 - acc: 0.4078 - val_loss: 1.6827 - val_acc: 0.4158\n",
      "Epoch 30/35\n",
      " - 0s - loss: 1.2617 - acc: 0.4028 - val_loss: 1.2907 - val_acc: 0.4173\n",
      "Epoch 31/35\n",
      " - 0s - loss: 1.2614 - acc: 0.3989 - val_loss: 1.5788 - val_acc: 0.4158\n",
      "Epoch 32/35\n",
      " - 0s - loss: 1.2594 - acc: 0.4028 - val_loss: 1.6135 - val_acc: 0.4158\n",
      "Epoch 33/35\n",
      " - 0s - loss: 1.2603 - acc: 0.4077 - val_loss: 2.1487 - val_acc: 0.3153\n",
      "Epoch 34/35\n",
      " - 0s - loss: 1.2608 - acc: 0.4028 - val_loss: 1.4591 - val_acc: 0.3153\n",
      "Epoch 35/35\n",
      " - 0s - loss: 1.2593 - acc: 0.4044 - val_loss: 1.4879 - val_acc: 0.3153\n"
     ]
    }
   ],
   "source": [
    "# 模型训练\n",
    "history = model.fit(\n",
    "        X_tr, y_train, # XY\n",
    "        verbose=2,# 0 为不在标准输出流输出日志信息；1 为输出进度条记录；2 没有进度条，只是输出一行记录\n",
    "        epochs=35, # 训练次数,训练模型的迭代数\n",
    "#             batch_size=128, # 批处理大小,每次梯度更新的样本数\n",
    "        validation_data=(X_te, y_test),# 验证数据\n",
    "        shuffle=True, # 在每个epoch之前对训练数据进行洗牌\n",
    "       )"
   ]
  },
  {
   "cell_type": "code",
   "execution_count": 13,
   "metadata": {},
   "outputs": [],
   "source": [
    "# 预测\n",
    "pred_train = model.predict_proba(X_tr) # 训练集预测\n",
    "pred_test = model.predict_proba(X_te) # 测试集预测"
   ]
  },
  {
   "cell_type": "code",
   "execution_count": 26,
   "metadata": {
    "scrolled": true
   },
   "outputs": [
    {
     "name": "stdout",
     "output_type": "stream",
     "text": [
      "训练集准确度: 0.3191, 测试集准确度: 0.3153\n"
     ]
    }
   ],
   "source": [
    "# 准确度计算\n",
    "train_acc = accuracy_score(Y_tr,np.argmax(pred_train,axis=1))\n",
    "test_acc = accuracy_score(Y_te,np.argmax(pred_test,axis=1))\n",
    "print(\"训练集准确度: {0:.4f}, 测试集准确度: {1:.4f}\".format(train_acc, test_acc))"
   ]
  },
  {
   "cell_type": "code",
   "execution_count": null,
   "metadata": {},
   "outputs": [],
   "source": []
  }
 ],
 "metadata": {
  "kernelspec": {
   "display_name": "Python 3",
   "language": "python",
   "name": "python3"
  },
  "language_info": {
   "codemirror_mode": {
    "name": "ipython",
    "version": 3
   },
   "file_extension": ".py",
   "mimetype": "text/x-python",
   "name": "python",
   "nbconvert_exporter": "python",
   "pygments_lexer": "ipython3",
   "version": "3.6.5"
  }
 },
 "nbformat": 4,
 "nbformat_minor": 2
}

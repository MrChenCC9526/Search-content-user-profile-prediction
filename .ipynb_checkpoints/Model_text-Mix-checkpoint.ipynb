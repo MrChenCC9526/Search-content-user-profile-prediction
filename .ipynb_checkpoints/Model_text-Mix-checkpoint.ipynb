{
 "cells": [
  {
   "cell_type": "code",
   "execution_count": 1,
   "metadata": {},
   "outputs": [],
   "source": [
    "import pandas as pd\n",
    "import sys\n",
    "import os\n",
    "import pickle\n",
    "import numpy as np\n",
    "import h5py\n",
    "import config # 自定义配置文件\n",
    "\n",
    "# 不显示VisibleDeprecation警告\n",
    "import warnings\n",
    "warnings.filterwarnings(\"ignore\", category=Warning)"
   ]
  },
  {
   "cell_type": "code",
   "execution_count": 2,
   "metadata": {},
   "outputs": [],
   "source": [
    "# 导入自定义模块\n",
    "sys.path.append(config.Py_path) # 添加路径\n",
    "from SaveAndLoad import save_pkl,load_pkl # 数据文件持久化与加载\n",
    "from BuildModel import get_train_test,BF_nn_Model\n",
    "from ModelEvaluation import Model_ACC,Model_ACC_proba"
   ]
  },
  {
   "cell_type": "code",
   "execution_count": 3,
   "metadata": {},
   "outputs": [],
   "source": [
    "from tensorflow.keras.models import load_model"
   ]
  },
  {
   "cell_type": "markdown",
   "metadata": {},
   "source": [
    "### 数据载入"
   ]
  },
  {
   "cell_type": "markdown",
   "metadata": {},
   "source": [
    "#### DF数据"
   ]
  },
  {
   "cell_type": "code",
   "execution_count": 4,
   "metadata": {},
   "outputs": [],
   "source": [
    "data = pd.read_csv(config.AF_Data_path + \"AFAfter.csv\")\n",
    "col_list = [\"Education\",\"age\",\"gender\"]"
   ]
  },
  {
   "cell_type": "markdown",
   "metadata": {},
   "source": [
    "#### 词向量数据"
   ]
  },
  {
   "cell_type": "code",
   "execution_count": 5,
   "metadata": {
    "scrolled": true
   },
   "outputs": [
    {
     "name": "stdout",
     "output_type": "stream",
     "text": [
      "KeysView(<HDF5 file \"TFIDF_sp_toarray.hdf5\" (mode r)>)\n"
     ]
    }
   ],
   "source": [
    "# 加载TFIDF词向量数据\n",
    "TFIDF_HW_sp_toarray = load_pkl(\"TFIDF_HW_sp_toarray\")\n",
    "with h5py.File(config.WV_Data_path + \"TFIDF_sp_toarray.hdf5\", 'r') as f:  # 读取的时候是‘r’\n",
    "    print(f.keys())\n",
    "    TFIDF_sp_toarray = f.get(\"TFIDF_sp_toarray\")[:]"
   ]
  },
  {
   "cell_type": "code",
   "execution_count": 6,
   "metadata": {},
   "outputs": [
    {
     "name": "stdout",
     "output_type": "stream",
     "text": [
      "TFIDF_sp_toarray\t (17651, 336460)\n",
      "TFIDF_HW_sp_toarray\t (17651, 12699)\n"
     ]
    }
   ],
   "source": [
    "print(\"TFIDF_sp_toarray\\t\",TFIDF_sp_toarray.shape)\n",
    "print(\"TFIDF_HW_sp_toarray\\t\",TFIDF_HW_sp_toarray.shape)"
   ]
  },
  {
   "cell_type": "code",
   "execution_count": 7,
   "metadata": {},
   "outputs": [],
   "source": [
    "# 加载W2V词向量数据\n",
    "W2V_X_sp = load_pkl(\"W2V_X_sp\")\n",
    "W2V_HW_sp = load_pkl(\"W2V_HW_sp\")"
   ]
  },
  {
   "cell_type": "code",
   "execution_count": 8,
   "metadata": {},
   "outputs": [
    {
     "name": "stdout",
     "output_type": "stream",
     "text": [
      "W2V_X_sp\t (17651, 100)\n",
      "W2V_HW_sp\t (17651, 100)\n"
     ]
    }
   ],
   "source": [
    "print(\"W2V_X_sp\\t\",W2V_X_sp.shape)\n",
    "print(\"W2V_HW_sp\\t\",W2V_HW_sp.shape)"
   ]
  },
  {
   "cell_type": "code",
   "execution_count": 9,
   "metadata": {},
   "outputs": [],
   "source": [
    "# 加载D2V词向量数据\n",
    "D2V_X_sp = load_pkl(\"D2V_X_sp\")\n",
    "D2V_HW_sp = load_pkl(\"D2V_HW_X_sp\")"
   ]
  },
  {
   "cell_type": "code",
   "execution_count": 10,
   "metadata": {},
   "outputs": [
    {
     "name": "stdout",
     "output_type": "stream",
     "text": [
      "D2V_X_sp\t (17651, 300)\n",
      "D2V_HW_sp\t (17651, 300)\n"
     ]
    }
   ],
   "source": [
    "print(\"D2V_X_sp\\t\",D2V_X_sp.shape)\n",
    "print(\"D2V_HW_sp\\t\",D2V_HW_sp.shape)"
   ]
  },
  {
   "cell_type": "markdown",
   "metadata": {},
   "source": [
    "### W2V_NN"
   ]
  },
  {
   "cell_type": "code",
   "execution_count": 11,
   "metadata": {},
   "outputs": [],
   "source": [
    "# 划分数据集\n",
    "X_tr, X_te, Y_tr, Y_te = get_train_test(np.hstack([W2V_X_sp,W2V_HW_sp]),data[\"Education\"])"
   ]
  },
  {
   "cell_type": "code",
   "execution_count": 12,
   "metadata": {},
   "outputs": [],
   "source": [
    "import tensorflow as tf\n",
    "from tensorflow.keras.layers import Dense, Dropout, Activation\n",
    "from tensorflow.python.keras.utils import np_utils"
   ]
  },
  {
   "cell_type": "code",
   "execution_count": 13,
   "metadata": {},
   "outputs": [],
   "source": [
    "# One-Hot编码\n",
    "y_train = np_utils.to_categorical(Y_tr)\n",
    "y_test = np_utils.to_categorical(Y_te)\n",
    "\n",
    "num_class = len(Y_tr.value_counts())  # 计算目标列类别数量\n",
    "input_num = X_tr.shape[1]  # 输入层尺寸"
   ]
  },
  {
   "cell_type": "code",
   "execution_count": 14,
   "metadata": {
    "collapsed": true
   },
   "outputs": [
    {
     "name": "stdout",
     "output_type": "stream",
     "text": [
      "模型各层的参数状况\n",
      "_________________________________________________________________\n",
      "Layer (type)                 Output Shape              Param #   \n",
      "=================================================================\n",
      "dense (Dense)                (None, 300)               60300     \n",
      "_________________________________________________________________\n",
      "dropout (Dropout)            (None, 300)               0         \n",
      "_________________________________________________________________\n",
      "activation (Activation)      (None, 300)               0         \n",
      "_________________________________________________________________\n",
      "dense_1 (Dense)              (None, 7)                 2107      \n",
      "_________________________________________________________________\n",
      "activation_1 (Activation)    (None, 7)                 0         \n",
      "=================================================================\n",
      "Total params: 62,407\n",
      "Trainable params: 62,407\n",
      "Non-trainable params: 0\n",
      "_________________________________________________________________\n",
      "None\n"
     ]
    }
   ],
   "source": [
    "model = tf.keras.Sequential()  # 实例化\n",
    "# 输入层\n",
    "model.add(Dense(300, input_shape=(input_num,)))  # 全连接层\n",
    "\n",
    "# 隐含层\n",
    "model.add(Dropout(0.3))  # 随机失活\n",
    "model.add(Activation('tanh'))  # 激活函数,tanh\n",
    "model.add(Dense(y_train.shape[1]))  # 全连接层\n",
    "\n",
    "# 输出层\n",
    "model.add(Activation('softmax'))  # 激活函数,softmax\n",
    "\n",
    "# 配置训练方法\n",
    "model.compile(loss='categorical_crossentropy',  # 损失函数，分类交叉熵\n",
    "              optimizer='adadelta',  # 优化器，自适应增量 Adaptive Delta\n",
    "              metrics=['accuracy'])  # 准确率评测，精确度\n",
    "\n",
    "print(\"模型各层的参数状况\")\n",
    "print(model.summary())  # 查看模型"
   ]
  },
  {
   "cell_type": "code",
   "execution_count": 16,
   "metadata": {},
   "outputs": [],
   "source": []
  },
  {
   "cell_type": "code",
   "execution_count": 15,
   "metadata": {},
   "outputs": [],
   "source": [
    "# 早停\n",
    "from tensorflow.keras.callbacks import EarlyStopping\n",
    "earlystop = EarlyStopping(monitor = 'val_loss',\n",
    "                          mode='min',\n",
    "                          min_delta = 0.01,\n",
    "                          patience = 5,\n",
    "                          verbose = 1,\n",
    "                          )"
   ]
  },
  {
   "cell_type": "code",
   "execution_count": 16,
   "metadata": {},
   "outputs": [],
   "source": [
    "# 早停并保存最优模型\n",
    "from tensorflow.keras.callbacks import ModelCheckpoint\n",
    "mc_earlystop = ModelCheckpoint(filepath=config.Model_path + \"text_model.h5\",\n",
    "                     monitor='val_loss',\n",
    "                     mode='max',\n",
    "                     verbose=1,\n",
    "                     save_best_only=True)"
   ]
  },
  {
   "cell_type": "code",
   "execution_count": 17,
   "metadata": {
    "collapsed": true
   },
   "outputs": [
    {
     "name": "stdout",
     "output_type": "stream",
     "text": [
      "Train on 12355 samples, validate on 5296 samples\n",
      "Epoch 1/100\n",
      "12355/12355 [==============================] - 1s 62us/step - loss: 1.1739 - acc: 0.4807 - val_loss: 1.1436 - val_acc: 0.5130\n",
      "Epoch 2/100\n",
      "12355/12355 [==============================] - 0s 15us/step - loss: 1.0923 - acc: 0.5283 - val_loss: 1.1269 - val_acc: 0.5255\n",
      "Epoch 3/100\n",
      "12355/12355 [==============================] - 0s 14us/step - loss: 1.0662 - acc: 0.5391 - val_loss: 1.0671 - val_acc: 0.5595\n",
      "Epoch 4/100\n",
      "12355/12355 [==============================] - 0s 14us/step - loss: 1.0506 - acc: 0.5504 - val_loss: 1.0481 - val_acc: 0.5651\n",
      "Epoch 5/100\n",
      "12355/12355 [==============================] - 0s 13us/step - loss: 1.0451 - acc: 0.5589 - val_loss: 1.0737 - val_acc: 0.5393\n",
      "Epoch 6/100\n",
      "12355/12355 [==============================] - 0s 14us/step - loss: 1.0366 - acc: 0.5582 - val_loss: 1.0630 - val_acc: 0.5480\n",
      "Epoch 7/100\n",
      "12355/12355 [==============================] - 0s 13us/step - loss: 1.0346 - acc: 0.5666 - val_loss: 1.0765 - val_acc: 0.5329\n",
      "Epoch 8/100\n",
      "12355/12355 [==============================] - 0s 14us/step - loss: 1.0290 - acc: 0.5662 - val_loss: 1.0388 - val_acc: 0.5708\n",
      "Epoch 9/100\n",
      "12355/12355 [==============================] - 0s 13us/step - loss: 1.0307 - acc: 0.5630 - val_loss: 1.0407 - val_acc: 0.5689\n",
      "Epoch 00009: early stopping\n"
     ]
    }
   ],
   "source": [
    "# 模型训练\n",
    "history = model.fit(\n",
    "    X_tr, y_train,  # XY\n",
    "    # verbose=2,  # 0 为不在标准输出流输出日志信息；1 为输出进度条记录；2 没有进度条，只是输出一行记录\n",
    "    epochs=100,  # 训练次数,训练模型的迭代数\n",
    "    batch_size=128, # 批处理大小,每次梯度更新的样本数\n",
    "    validation_data=(X_te, y_test),  # 验证数据\n",
    "    shuffle=True,  # 在每个epoch之前对训练数据进行洗牌\n",
    "    callbacks = [earlystop]\n",
    "#     callbacks[earlystop],\n",
    ")"
   ]
  },
  {
   "cell_type": "code",
   "execution_count": 19,
   "metadata": {},
   "outputs": [
    {
     "name": "stdout",
     "output_type": "stream",
     "text": [
      "训练集准确度: 0.578632, 测试集准确度: 0.568920\n"
     ]
    }
   ],
   "source": [
    "# 计算模型准确度\n",
    "W2V_nn_pred_tr,W2V_nn_pred_te = Model_ACC_proba(model,X_tr, X_te, Y_tr, Y_te,ReYN = True)"
   ]
  },
  {
   "cell_type": "code",
   "execution_count": 20,
   "metadata": {},
   "outputs": [],
   "source": [
    "import seaborn as sns\n",
    "import matplotlib.pyplot as plt\n",
    "import matplotlib\n",
    "# 绘图显示中文\n",
    "plt.rcParams['font.sans-serif'] = ['SimHei']\n",
    "plt.rcParams['axes.unicode_minus'] = False"
   ]
  },
  {
   "cell_type": "code",
   "execution_count": 21,
   "metadata": {
    "collapsed": true
   },
   "outputs": [
    {
     "name": "stderr",
     "output_type": "stream",
     "text": [
      "No handles with labels found to put in legend.\n"
     ]
    },
    {
     "data": {
      "text/plain": [
       "<matplotlib.collections.PathCollection at 0x218de4eb080>"
      ]
     },
     "execution_count": 21,
     "metadata": {},
     "output_type": "execute_result"
    },
    {
     "data": {
      "image/png": "[encoded data removed]",
      "text/plain": [
       "<Figure size 1120x560 with 1 Axes>"
      ]
     },
     "metadata": {},
     "output_type": "display_data"
    }
   ],
   "source": [
    "plt.figure(figsize=(14, 7), dpi=80) # 创建画布\n",
    "plt.legend(loc='best') # 显示图例\n",
    "plt.xlabel(\"epoch\", fontdict={'size': 14}) # X轴标签\n",
    "plt.ylabel(\"ACC\", fontdict={'size': 14}) # Y轴标签\n",
    "plt.title(\"nnModel-ACC\", fontdict={'size': 16}) # 标题\n",
    "plt.plot(history.epoch, history.history[\"val_acc\"], c='red', label=\"预测ACC\") # 绘制折线\n",
    "plt.plot(history.epoch, history.history[\"acc\"], c='green', linestyle='-.', label=\"训练ACC\") # 绘制折线\n",
    "plt.scatter(history.epoch, history.history[\"val_acc\"], c='red') # 绘制散点\n",
    "plt.scatter(history.epoch, history.history[\"acc\"], c='green') # 绘制散点"
   ]
  },
  {
   "cell_type": "code",
   "execution_count": null,
   "metadata": {},
   "outputs": [],
   "source": []
  },
  {
   "cell_type": "code",
   "execution_count": 10,
   "metadata": {
    "collapsed": true
   },
   "outputs": [
    {
     "name": "stdout",
     "output_type": "stream",
     "text": [
      "模型各层的参数状况\n",
      "_________________________________________________________________\n",
      "Layer (type)                 Output Shape              Param #   \n",
      "=================================================================\n",
      "dense (Dense)                (None, 300)               60300     \n",
      "_________________________________________________________________\n",
      "dropout (Dropout)            (None, 300)               0         \n",
      "_________________________________________________________________\n",
      "activation (Activation)      (None, 300)               0         \n",
      "_________________________________________________________________\n",
      "dense_1 (Dense)              (None, 7)                 2107      \n",
      "_________________________________________________________________\n",
      "activation_1 (Activation)    (None, 7)                 0         \n",
      "=================================================================\n",
      "Total params: 62,407\n",
      "Trainable params: 62,407\n",
      "Non-trainable params: 0\n",
      "_________________________________________________________________\n",
      "None\n",
      "Train on 12355 samples, validate on 5296 samples\n",
      "Epoch 1/5\n",
      "12355/12355 [==============================] - 0s 29us/step - loss: 1.1515 - acc: 0.4951 - val_loss: 1.0824 - val_acc: 0.5351\n",
      "Epoch 2/5\n",
      "12355/12355 [==============================] - 0s 13us/step - loss: 1.0734 - acc: 0.5382 - val_loss: 1.1201 - val_acc: 0.4923\n",
      "Epoch 3/5\n",
      "12355/12355 [==============================] - 0s 15us/step - loss: 1.0523 - acc: 0.5532 - val_loss: 1.0654 - val_acc: 0.5483\n",
      "Epoch 4/5\n",
      "12355/12355 [==============================] - 0s 14us/step - loss: 1.0419 - acc: 0.5603 - val_loss: 1.0650 - val_acc: 0.5478\n",
      "Epoch 5/5\n",
      "12355/12355 [==============================] - 0s 14us/step - loss: 1.0393 - acc: 0.5611 - val_loss: 1.0490 - val_acc: 0.5625\n"
     ]
    }
   ],
   "source": [
    "# 模型构建并训练\n",
    "W2V_nn_Model,W2V_nn_history = BF_nn_Model(X_tr, X_te, Y_tr, Y_te,ReHyYN=True)"
   ]
  },
  {
   "cell_type": "code",
   "execution_count": 13,
   "metadata": {
    "collapsed": true
   },
   "outputs": [
    {
     "data": {
      "text/plain": [
       "{'val_loss': [1.0823933006773543,\n",
       "  1.1201239566788572,\n",
       "  1.0653813900904352,\n",
       "  1.0650422945843723,\n",
       "  1.0490067430133185],\n",
       " 'val_acc': [0.5351208461015247,\n",
       "  0.49225830833717416,\n",
       "  0.548338368399986,\n",
       "  0.5477719035033373,\n",
       "  0.5625],\n",
       " 'loss': [1.151530273430553,\n",
       "  1.0734476941937332,\n",
       "  1.052327430832005,\n",
       "  1.0419357299901175,\n",
       "  1.03929146984626],\n",
       " 'acc': [0.4951031971344433,\n",
       "  0.5382436260960933,\n",
       "  0.5532173209564737,\n",
       "  0.5603399434296142,\n",
       "  0.5611493322589725]}"
      ]
     },
     "execution_count": 13,
     "metadata": {},
     "output_type": "execute_result"
    }
   ],
   "source": [
    "W2V_nn_history.history"
   ]
  },
  {
   "cell_type": "code",
   "execution_count": 14,
   "metadata": {
    "scrolled": true
   },
   "outputs": [
    {
     "name": "stdout",
     "output_type": "stream",
     "text": [
      "训练集准确度: 0.5739, 测试集准确度: 0.5625\n"
     ]
    }
   ],
   "source": [
    "# 计算模型准确度\n",
    "W2V_nn_pred_tr,W2V_nn_pred_te = Model_ACC_proba(W2V_nn_Model,X_tr, X_te, Y_tr, Y_te,ReYN = True)"
   ]
  },
  {
   "cell_type": "code",
   "execution_count": 15,
   "metadata": {},
   "outputs": [],
   "source": [
    "# 保存训练好的model为hdf5文件\n",
    "W2V_nn_Model.save(config.Model_path + 'W2V_nn_Model' + '.h5') "
   ]
  },
  {
   "cell_type": "code",
   "execution_count": 16,
   "metadata": {},
   "outputs": [],
   "source": [
    "# 加载模型\n",
    "W2V_nn_Model = load_model(config.Model_path + 'W2V_nn_Model' + '.h5')"
   ]
  },
  {
   "cell_type": "code",
   "execution_count": 18,
   "metadata": {},
   "outputs": [],
   "source": [
    "np.vstack(W2V_nn_pred_tr,W2V_nn_pred_te)"
   ]
  },
  {
   "cell_type": "code",
   "execution_count": 71,
   "metadata": {},
   "outputs": [],
   "source": [
    "from sklearn.linear_model import LogisticRegression\n",
    "LR_model = LogisticRegression(max_iter=10000)"
   ]
  },
  {
   "cell_type": "code",
   "execution_count": 72,
   "metadata": {},
   "outputs": [
    {
     "data": {
      "text/plain": [
       "LogisticRegression(max_iter=10000)"
      ]
     },
     "execution_count": 72,
     "metadata": {},
     "output_type": "execute_result"
    }
   ],
   "source": [
    "LR_model.fit(W2V_nn_pred_tr,Y_tr)"
   ]
  },
  {
   "cell_type": "code",
   "execution_count": 75,
   "metadata": {},
   "outputs": [
    {
     "name": "stdout",
     "output_type": "stream",
     "text": [
      "训练集准确度: 0.6109, 测试集准确度: 0.5810\n"
     ]
    }
   ],
   "source": [
    "Model_ACC(LR_model,W2V_nn_pred_tr, W2V_nn_pred_te, Y_tr, Y_te)"
   ]
  },
  {
   "cell_type": "code",
   "execution_count": 76,
   "metadata": {},
   "outputs": [],
   "source": [
    "from sklearn import svm"
   ]
  },
  {
   "cell_type": "code",
   "execution_count": 77,
   "metadata": {},
   "outputs": [],
   "source": [
    "# 模型实例化\n",
    "clf = svm.SVC(probability=True)"
   ]
  },
  {
   "cell_type": "code",
   "execution_count": 78,
   "metadata": {},
   "outputs": [
    {
     "data": {
      "text/plain": [
       "SVC(probability=True)"
      ]
     },
     "execution_count": 78,
     "metadata": {},
     "output_type": "execute_result"
    }
   ],
   "source": [
    "clf.fit(W2V_nn_pred_tr,Y_tr) # 模型训练"
   ]
  },
  {
   "cell_type": "code",
   "execution_count": 79,
   "metadata": {},
   "outputs": [
    {
     "name": "stdout",
     "output_type": "stream",
     "text": [
      "训练集准确度: 0.6147, 测试集准确度: 0.5818\n"
     ]
    }
   ],
   "source": [
    "Model_ACC(clf,W2V_nn_pred_tr, W2V_nn_pred_te, Y_tr, Y_te)"
   ]
  },
  {
   "cell_type": "code",
   "execution_count": 80,
   "metadata": {},
   "outputs": [],
   "source": [
    "import xgboost as xgb"
   ]
  },
  {
   "cell_type": "code",
   "execution_count": 81,
   "metadata": {},
   "outputs": [],
   "source": [
    "XGB_Model = xgb.XGBClassifier(use_label_encoder=False)"
   ]
  },
  {
   "cell_type": "code",
   "execution_count": 82,
   "metadata": {},
   "outputs": [],
   "source": [
    "Y_tr[Y_tr==6] = 0\n",
    "Y_te[Y_te==6] = 0"
   ]
  },
  {
   "cell_type": "code",
   "execution_count": 87,
   "metadata": {},
   "outputs": [
    {
     "name": "stdout",
     "output_type": "stream",
     "text": [
      "[17:46:06] WARNING: D:\\Build\\xgboost\\xgboost-1.3.1.git\\src\\learner.cc:1061: Starting in XGBoost 1.3.0, the default evaluation metric used with the objective 'multi:softprob' was changed from 'merror' to 'mlogloss'. Explicitly set eval_metric if you'd like to restore the old behavior.\n"
     ]
    },
    {
     "data": {
      "text/plain": [
       "XGBClassifier(base_score=0.5, booster='gbtree', colsample_bylevel=1,\n",
       "              colsample_bynode=1, colsample_bytree=1, gamma=0, gpu_id=-1,\n",
       "              importance_type='gain', interaction_constraints='',\n",
       "              learning_rate=0.300000012, max_delta_step=0, max_depth=6,\n",
       "              min_child_weight=1, missing=nan, monotone_constraints='()',\n",
       "              n_estimators=100, n_jobs=12, num_parallel_tree=1,\n",
       "              objective='multi:softprob', random_state=0, reg_alpha=0,\n",
       "              reg_lambda=1, scale_pos_weight=None, subsample=1,\n",
       "              tree_method='exact', use_label_encoder=False,\n",
       "              validate_parameters=1, verbosity=None)"
      ]
     },
     "execution_count": 87,
     "metadata": {},
     "output_type": "execute_result"
    }
   ],
   "source": [
    "XGB_Model = XGB_Model.fit(W2V_nn_pred_tr,Y_tr)\n",
    "XGB_Model"
   ]
  },
  {
   "cell_type": "code",
   "execution_count": 88,
   "metadata": {},
   "outputs": [
    {
     "name": "stdout",
     "output_type": "stream",
     "text": [
      "训练集准确度: 0.8381, 测试集准确度: 0.5631\n"
     ]
    }
   ],
   "source": [
    "Model_ACC(XGB_Model,W2V_nn_pred_tr, W2V_nn_pred_te, Y_tr, Y_te)"
   ]
  },
  {
   "cell_type": "code",
   "execution_count": 89,
   "metadata": {},
   "outputs": [
    {
     "data": {
      "text/plain": [
       "0.8381222177256171"
      ]
     },
     "execution_count": 89,
     "metadata": {},
     "output_type": "execute_result"
    }
   ],
   "source": [
    "XGB_Model.score(W2V_nn_pred_tr,Y_tr)"
   ]
  },
  {
   "cell_type": "code",
   "execution_count": 90,
   "metadata": {},
   "outputs": [
    {
     "data": {
      "text/plain": [
       "0.5630664652567976"
      ]
     },
     "execution_count": 90,
     "metadata": {},
     "output_type": "execute_result"
    }
   ],
   "source": [
    "XGB_Model.score(W2V_nn_pred_te,Y_te)"
   ]
  },
  {
   "cell_type": "code",
   "execution_count": 91,
   "metadata": {},
   "outputs": [],
   "source": [
    "from mlxtend.classifier import StackingClassifier\n",
    "from sklearn.linear_model import LogisticRegression"
   ]
  },
  {
   "cell_type": "code",
   "execution_count": 102,
   "metadata": {},
   "outputs": [],
   "source": [
    "STKC = StackingClassifier(classifiers=[LR_model, clf, XGB_Model],\n",
    "                          use_probas=False, # 类别概率值作为meta-classfier的输入\n",
    "                          average_probas=False,  # 是否对每一个类别产生的概率值做平均\n",
    "                          meta_classifier=svm.SVC(probability=True))"
   ]
  },
  {
   "cell_type": "code",
   "execution_count": 103,
   "metadata": {
    "collapsed": true
   },
   "outputs": [
    {
     "name": "stdout",
     "output_type": "stream",
     "text": [
      "[18:03:05] WARNING: D:\\Build\\xgboost\\xgboost-1.3.1.git\\src\\learner.cc:1061: Starting in XGBoost 1.3.0, the default evaluation metric used with the objective 'multi:softprob' was changed from 'merror' to 'mlogloss'. Explicitly set eval_metric if you'd like to restore the old behavior.\n"
     ]
    },
    {
     "data": {
      "text/plain": [
       "StackingClassifier(classifiers=[LogisticRegression(max_iter=10000),\n",
       "                                SVC(probability=True),\n",
       "                                XGBClassifier(base_score=0.5, booster='gbtree',\n",
       "                                              colsample_bylevel=1,\n",
       "                                              colsample_bynode=1,\n",
       "                                              colsample_bytree=1, gamma=0,\n",
       "                                              gpu_id=-1, importance_type='gain',\n",
       "                                              interaction_constraints='',\n",
       "                                              learning_rate=0.300000012,\n",
       "                                              max_delta_step=0, max_depth=6,\n",
       "                                              min_child_weight=1, missing=nan,\n",
       "                                              monotone_constraints='()',\n",
       "                                              n_estimators=100, n_jobs=12,\n",
       "                                              num_parallel_tree=1,\n",
       "                                              objective='multi:softprob',\n",
       "                                              random_state=0, reg_alpha=0,\n",
       "                                              reg_lambda=1,\n",
       "                                              scale_pos_weight=None,\n",
       "                                              subsample=1, tree_method='exact',\n",
       "                                              use_label_encoder=False,\n",
       "                                              validate_parameters=1,\n",
       "                                              verbosity=None)],\n",
       "                   meta_classifier=SVC(probability=True))"
      ]
     },
     "execution_count": 103,
     "metadata": {},
     "output_type": "execute_result"
    }
   ],
   "source": [
    "STKC.fit(W2V_nn_pred_tr,Y_tr)"
   ]
  },
  {
   "cell_type": "code",
   "execution_count": 104,
   "metadata": {},
   "outputs": [
    {
     "name": "stdout",
     "output_type": "stream",
     "text": [
      "训练集准确度: 0.8380, 测试集准确度: 0.5631\n"
     ]
    }
   ],
   "source": [
    "Model_ACC(STKC,W2V_nn_pred_tr, W2V_nn_pred_te, Y_tr, Y_te)"
   ]
  },
  {
   "cell_type": "code",
   "execution_count": null,
   "metadata": {},
   "outputs": [],
   "source": []
  },
  {
   "cell_type": "markdown",
   "metadata": {},
   "source": [
    "### D2V_NN"
   ]
  },
  {
   "cell_type": "code",
   "execution_count": 11,
   "metadata": {},
   "outputs": [],
   "source": [
    "X_tr, X_te, Y_tr, Y_te = get_train_test(np.hstack([D2V_X_sp,D2V_HW_sp]),data[\"Education\"])"
   ]
  },
  {
   "cell_type": "code",
   "execution_count": 12,
   "metadata": {},
   "outputs": [],
   "source": [
    "# 模型构建并训练\n",
    "D2V_nn_Model,D2V_nn_history = BF_nn_Model(X_tr, X_te, Y_tr, Y_te,ReHyYN=True)"
   ]
  },
  {
   "cell_type": "code",
   "execution_count": 13,
   "metadata": {},
   "outputs": [
    {
     "name": "stdout",
     "output_type": "stream",
     "text": [
      "训练集准确度: 0.585188, 测试集准确度: 0.573452\n"
     ]
    }
   ],
   "source": [
    "# 计算模型准确度\n",
    "D2V_nn_pred_tr,D2V_nn_pred_te = Model_ACC_proba(D2V_nn_Model,X_tr, X_te, Y_tr, Y_te,ReYN = True)"
   ]
  },
  {
   "cell_type": "code",
   "execution_count": 14,
   "metadata": {},
   "outputs": [],
   "source": [
    "# 保存训练好的model为hdf5文件\n",
    "D2V_nn_Model.save(config.Model_path + 'D2V_nn_Model' + '.h5')"
   ]
  },
  {
   "cell_type": "code",
   "execution_count": null,
   "metadata": {},
   "outputs": [],
   "source": [
    "# 加载模型\n",
    "TFIDF_nn_Model = load_model(config.Model_path + 'D2V_nn_Model' + '.h5')"
   ]
  },
  {
   "cell_type": "markdown",
   "metadata": {},
   "source": [
    "### TFIDF_NN"
   ]
  },
  {
   "cell_type": "code",
   "execution_count": 15,
   "metadata": {},
   "outputs": [],
   "source": [
    "X_tr, X_te, Y_tr, Y_te = get_train_test(np.hstack([TFIDF_sp_toarray,TFIDF_sp_toarray]),data[\"Education\"])"
   ]
  },
  {
   "cell_type": "code",
   "execution_count": 16,
   "metadata": {},
   "outputs": [],
   "source": [
    "# 模型构建并训练\n",
    "TFIDF_nn_Model,TFIDF_nn_history = BF_nn_Model(X_tr, X_te, Y_tr, Y_te,ReHyYN=True)"
   ]
  },
  {
   "cell_type": "code",
   "execution_count": 17,
   "metadata": {},
   "outputs": [
    {
     "name": "stdout",
     "output_type": "stream",
     "text": [
      "训练集准确度: 0.704816, 测试集准确度: 0.589502\n"
     ]
    }
   ],
   "source": [
    "# 计算模型准确度\n",
    "TFIDF_nn_pred_tr,TFIDF_nn_pred_te = Model_ACC_proba(TFIDF_nn_Model,X_tr, X_te, Y_tr, Y_te,ReYN = True)"
   ]
  },
  {
   "cell_type": "code",
   "execution_count": 18,
   "metadata": {},
   "outputs": [],
   "source": [
    "# 保存训练好的model为hdf5文件\n",
    "TFIDF_nn_Model.save(config.Model_path + 'TFIDF_nn_Model' + '.h5')"
   ]
  },
  {
   "cell_type": "code",
   "execution_count": null,
   "metadata": {},
   "outputs": [],
   "source": [
    "# 加载模型\n",
    "TFIDF_nn_Model = load_model(config.Model_path + 'TFIDF_nn_Model' + '.h5')"
   ]
  },
  {
   "cell_type": "code",
   "execution_count": null,
   "metadata": {},
   "outputs": [],
   "source": []
  },
  {
   "cell_type": "markdown",
   "metadata": {},
   "source": [
    "### Mix_nn"
   ]
  },
  {
   "cell_type": "markdown",
   "metadata": {},
   "source": [
    "#### D2V+W2V"
   ]
  },
  {
   "cell_type": "code",
   "execution_count": 19,
   "metadata": {},
   "outputs": [],
   "source": [
    "X_tr, X_te, Y_tr, Y_te = get_train_test(np.hstack([D2V_X_sp,W2V_X_sp]),data[\"Education\"])"
   ]
  },
  {
   "cell_type": "code",
   "execution_count": 20,
   "metadata": {},
   "outputs": [],
   "source": [
    "# 模型构建并训练\n",
    "Mix_nn_1_Model,Mix_nn_1_history = BF_nn_Model(X_tr, X_te, Y_tr, Y_te,ReHyYN=True)"
   ]
  },
  {
   "cell_type": "code",
   "execution_count": 21,
   "metadata": {},
   "outputs": [
    {
     "name": "stdout",
     "output_type": "stream",
     "text": [
      "训练集准确度: 0.554593, 测试集准确度: 0.541918\n"
     ]
    }
   ],
   "source": [
    "# 计算模型准确度\n",
    "Mix_nn_1_pred_tr,Mix_nn_1_pred_te = Model_ACC_proba(Mix_nn_1_Model,X_tr, X_te, Y_tr, Y_te,ReYN = True)"
   ]
  },
  {
   "cell_type": "code",
   "execution_count": 22,
   "metadata": {},
   "outputs": [],
   "source": [
    "# 保存训练好的model为hdf5文件\n",
    "Mix_nn_1_Model.save(config.Model_path + 'Mix_nn_1_Model' + '.h5') "
   ]
  },
  {
   "cell_type": "code",
   "execution_count": null,
   "metadata": {},
   "outputs": [],
   "source": [
    "save_pkl(np.vstack([Mix_nn_1_pred_tr,Mix_nn_1_pred_te]),\"Mix_nn_1_pred\")"
   ]
  },
  {
   "cell_type": "code",
   "execution_count": null,
   "metadata": {},
   "outputs": [],
   "source": []
  },
  {
   "cell_type": "code",
   "execution_count": null,
   "metadata": {},
   "outputs": [],
   "source": [
    "# 加载模型\n",
    "Mix_nn_1_Model = load_model(config.Model_path + 'Mix_nn_1_Model' + '.h5')"
   ]
  },
  {
   "cell_type": "markdown",
   "metadata": {},
   "source": [
    "#### D2V+TFIDF"
   ]
  },
  {
   "cell_type": "code",
   "execution_count": 23,
   "metadata": {},
   "outputs": [],
   "source": [
    "X_tr, X_te, Y_tr, Y_te = get_train_test(np.hstack([D2V_X_sp,TFIDF_sp_toarray]),data[\"Education\"])"
   ]
  },
  {
   "cell_type": "code",
   "execution_count": 24,
   "metadata": {},
   "outputs": [],
   "source": [
    "# 模型构建并训练\n",
    "Mix_nn_2_Model,Mix_nn_2_history = BF_nn_Model(X_tr, X_te, Y_tr, Y_te,ReHyYN=True)"
   ]
  },
  {
   "cell_type": "code",
   "execution_count": 25,
   "metadata": {},
   "outputs": [
    {
     "name": "stdout",
     "output_type": "stream",
     "text": [
      "训练集准确度: 0.605989, 测试集准确度: 0.585536\n"
     ]
    }
   ],
   "source": [
    "# 计算模型准确度\n",
    "Mix_nn_2_pred_tr,Mix_nn_2_pred_te = Model_ACC_proba(Mix_nn_2_Model,X_tr, X_te, Y_tr, Y_te,ReYN = True)"
   ]
  },
  {
   "cell_type": "code",
   "execution_count": 26,
   "metadata": {},
   "outputs": [],
   "source": [
    "# 保存训练好的model为hdf5文件\n",
    "Mix_nn_2_Model.save(config.Model_path + 'Mix_nn_2_Model' + '.h5') "
   ]
  },
  {
   "cell_type": "code",
   "execution_count": null,
   "metadata": {},
   "outputs": [],
   "source": [
    "save_pkl(np.vstack([Mix_nn_2_pred_tr,Mix_nn_2_pred_te]),\"Mix_nn_2_pred\")"
   ]
  },
  {
   "cell_type": "code",
   "execution_count": null,
   "metadata": {},
   "outputs": [],
   "source": []
  },
  {
   "cell_type": "code",
   "execution_count": null,
   "metadata": {},
   "outputs": [],
   "source": [
    "# 加载模型\n",
    "Mix_nn_2_Model = load_model(config.Model_path + 'Mix_nn_2_Model' + '.h5')"
   ]
  },
  {
   "cell_type": "markdown",
   "metadata": {},
   "source": [
    "#### W2V+TFIDF"
   ]
  },
  {
   "cell_type": "code",
   "execution_count": 27,
   "metadata": {},
   "outputs": [],
   "source": [
    "X_tr, X_te, Y_tr, Y_te = get_train_test(np.hstack([W2V_X_sp,TFIDF_sp_toarray]),data[\"Education\"])"
   ]
  },
  {
   "cell_type": "code",
   "execution_count": 28,
   "metadata": {},
   "outputs": [],
   "source": [
    "# 模型构建并训练\n",
    "Mix_nn_3_Model,Mix_nn_3_history = BF_nn_Model(X_tr, X_te, Y_tr, Y_te,ReHyYN=True)"
   ]
  },
  {
   "cell_type": "code",
   "execution_count": 29,
   "metadata": {},
   "outputs": [
    {
     "name": "stdout",
     "output_type": "stream",
     "text": [
      "训练集准确度: 0.550061, 测试集准确度: 0.528512\n"
     ]
    }
   ],
   "source": [
    "# 计算模型准确度\n",
    "Mix_nn_3_pred_tr,Mix_nn_3_pred_te = Model_ACC_proba(Mix_nn_3_Model,X_tr, X_te, Y_tr, Y_te,ReYN = True)"
   ]
  },
  {
   "cell_type": "code",
   "execution_count": 30,
   "metadata": {},
   "outputs": [],
   "source": [
    "# 保存训练好的model为hdf5文件\n",
    "Mix_nn_3_Model.save(config.Model_path + 'Mix_nn_3_Model' + '.h5') "
   ]
  },
  {
   "cell_type": "code",
   "execution_count": null,
   "metadata": {},
   "outputs": [],
   "source": [
    "save_pkl(np.vstack([Mix_nn_3_pred_tr,Mix_nn_3_pred_te]),\"Mix_nn_3_pred\")"
   ]
  },
  {
   "cell_type": "code",
   "execution_count": null,
   "metadata": {},
   "outputs": [],
   "source": []
  },
  {
   "cell_type": "code",
   "execution_count": null,
   "metadata": {},
   "outputs": [],
   "source": [
    "# 加载模型\n",
    "Mix_nn_3_Model = load_model(config.Model_path + 'Mix_nn_3_Model' + '.h5')"
   ]
  },
  {
   "cell_type": "markdown",
   "metadata": {},
   "source": [
    "#### 4"
   ]
  },
  {
   "cell_type": "code",
   "execution_count": null,
   "metadata": {},
   "outputs": [],
   "source": [
    "X_tr, X_te, Y_tr, Y_te = get_train_test(np.hstack([W2V_HW_sp,TFIDF_HW_sp_toarray]),data[\"Education\"])"
   ]
  },
  {
   "cell_type": "code",
   "execution_count": null,
   "metadata": {},
   "outputs": [],
   "source": [
    "# 模型构建并训练\n",
    "Mix_nn_4_Model,Mix_nn_4_history = BF_nn_Model(X_tr, X_te, Y_tr, Y_te,ReHyYN=True)"
   ]
  },
  {
   "cell_type": "code",
   "execution_count": 47,
   "metadata": {
    "scrolled": true
   },
   "outputs": [
    {
     "name": "stdout",
     "output_type": "stream",
     "text": [
      "训练集准确度: 0.6008, 测试集准确度: 0.5491\n"
     ]
    }
   ],
   "source": [
    "# 计算模型准确度\n",
    "Mix_nn_4_pred_tr,Mix_nn_4_pred_te = Model_ACC_proba(Mix_nn_4_Model,X_tr, X_te, Y_tr, Y_te,ReYN = True)"
   ]
  },
  {
   "cell_type": "code",
   "execution_count": 48,
   "metadata": {},
   "outputs": [],
   "source": [
    "# 保存训练好的model为hdf5文件\n",
    "Mix_nn_4_Model.save(config.Model_path + 'Mix_nn_4_Model' + '.h5') "
   ]
  },
  {
   "cell_type": "code",
   "execution_count": 49,
   "metadata": {},
   "outputs": [
    {
     "name": "stdout",
     "output_type": "stream",
     "text": [
      "持久化存储路径：./data/WordVectorData/Mix_nn_4_pred.feat\n"
     ]
    }
   ],
   "source": [
    "save_pkl(np.vstack([Mix_nn_4_pred_tr,Mix_nn_4_pred_te]),\"Mix_nn_4_pred\")"
   ]
  },
  {
   "cell_type": "code",
   "execution_count": null,
   "metadata": {},
   "outputs": [],
   "source": []
  },
  {
   "cell_type": "code",
   "execution_count": 130,
   "metadata": {},
   "outputs": [],
   "source": [
    "# 加载模型\n",
    "Mix_nn_4_Model = load_model(config.Model_path + 'Mix_nn_4_Model' + '.h5')"
   ]
  },
  {
   "cell_type": "markdown",
   "metadata": {},
   "source": [
    "#### 5"
   ]
  },
  {
   "cell_type": "code",
   "execution_count": 50,
   "metadata": {},
   "outputs": [],
   "source": [
    "X_tr, X_te, Y_tr, Y_te = get_train_test(np.hstack([W2V_HW_sp,D2V_X_sp]),data[\"Education\"])"
   ]
  },
  {
   "cell_type": "code",
   "execution_count": 51,
   "metadata": {
    "collapsed": true
   },
   "outputs": [
    {
     "name": "stdout",
     "output_type": "stream",
     "text": [
      "模型各层的参数状况\n",
      "_________________________________________________________________\n",
      "Layer (type)                 Output Shape              Param #   \n",
      "=================================================================\n",
      "dense_10 (Dense)             (None, 300)               120300    \n",
      "_________________________________________________________________\n",
      "dropout_5 (Dropout)          (None, 300)               0         \n",
      "_________________________________________________________________\n",
      "activation_10 (Activation)   (None, 300)               0         \n",
      "_________________________________________________________________\n",
      "dense_11 (Dense)             (None, 7)                 2107      \n",
      "_________________________________________________________________\n",
      "activation_11 (Activation)   (None, 7)                 0         \n",
      "=================================================================\n",
      "Total params: 122,407\n",
      "Trainable params: 122,407\n",
      "Non-trainable params: 0\n",
      "_________________________________________________________________\n",
      "None\n",
      "Train on 12355 samples, validate on 5296 samples\n",
      "Epoch 1/5\n",
      "12355/12355 [==============================] - 1s 110us/step - loss: 1.0881 - acc: 0.5517 - val_loss: 1.0414 - val_acc: 0.5887\n",
      "Epoch 2/5\n",
      "12355/12355 [==============================] - 0s 33us/step - loss: 0.9593 - acc: 0.6079 - val_loss: 1.0101 - val_acc: 0.6035\n",
      "Epoch 3/5\n",
      "12355/12355 [==============================] - 0s 22us/step - loss: 0.9241 - acc: 0.6228 - val_loss: 1.0044 - val_acc: 0.6080\n",
      "Epoch 4/5\n",
      "12355/12355 [==============================] - 0s 25us/step - loss: 0.8934 - acc: 0.6380 - val_loss: 1.0431 - val_acc: 0.5955\n",
      "Epoch 5/5\n",
      "12355/12355 [==============================] - 0s 21us/step - loss: 0.8822 - acc: 0.6439 - val_loss: 1.0103 - val_acc: 0.6025\n"
     ]
    }
   ],
   "source": [
    "# 模型构建并训练\n",
    "Mix_nn_5_Model,Mix_nn_5_history = BF_nn_Model(X_tr, X_te, Y_tr, Y_te,ReHyYN=True)"
   ]
  },
  {
   "cell_type": "code",
   "execution_count": 52,
   "metadata": {},
   "outputs": [
    {
     "name": "stdout",
     "output_type": "stream",
     "text": [
      "训练集准确度: 0.6686, 测试集准确度: 0.6025\n"
     ]
    }
   ],
   "source": [
    "# 计算模型准确度\n",
    "Mix_nn_5_pred_tr,Mix_nn_5_pred_te = Model_ACC_proba(Mix_nn_5_Model,X_tr, X_te, Y_tr, Y_te,ReYN = True)"
   ]
  },
  {
   "cell_type": "code",
   "execution_count": 53,
   "metadata": {},
   "outputs": [],
   "source": [
    "# 保存训练好的model为hdf5文件\n",
    "Mix_nn_5_Model.save(config.Model_path + 'Mix_nn_5_Model' + '.h5') "
   ]
  },
  {
   "cell_type": "code",
   "execution_count": 54,
   "metadata": {},
   "outputs": [
    {
     "name": "stdout",
     "output_type": "stream",
     "text": [
      "持久化存储路径：./data/WordVectorData/Mix_nn_5_pred.feat\n"
     ]
    }
   ],
   "source": [
    "save_pkl(np.vstack([Mix_nn_5_pred_tr,Mix_nn_5_pred_te]),\"Mix_nn_5_pred\")"
   ]
  },
  {
   "cell_type": "code",
   "execution_count": null,
   "metadata": {},
   "outputs": [],
   "source": []
  },
  {
   "cell_type": "code",
   "execution_count": null,
   "metadata": {},
   "outputs": [],
   "source": [
    "# 加载模型\n",
    "Mix_nn_5_Model = load_model(config.Model_path + 'Mix_nn_5_Model' + '.h5')"
   ]
  },
  {
   "cell_type": "markdown",
   "metadata": {},
   "source": [
    "#### 6"
   ]
  },
  {
   "cell_type": "code",
   "execution_count": 55,
   "metadata": {},
   "outputs": [],
   "source": [
    "X_tr, X_te, Y_tr, Y_te = get_train_test(np.hstack([D2V_X_sp,TFIDF_sp_toarray]),data[\"Education\"])"
   ]
  },
  {
   "cell_type": "code",
   "execution_count": 56,
   "metadata": {
    "collapsed": true
   },
   "outputs": [
    {
     "name": "stdout",
     "output_type": "stream",
     "text": [
      "模型各层的参数状况\n",
      "_________________________________________________________________\n",
      "Layer (type)                 Output Shape              Param #   \n",
      "=================================================================\n",
      "dense_12 (Dense)             (None, 300)               101028300 \n",
      "_________________________________________________________________\n",
      "dropout_6 (Dropout)          (None, 300)               0         \n",
      "_________________________________________________________________\n",
      "activation_12 (Activation)   (None, 300)               0         \n",
      "_________________________________________________________________\n",
      "dense_13 (Dense)             (None, 7)                 2107      \n",
      "_________________________________________________________________\n",
      "activation_13 (Activation)   (None, 7)                 0         \n",
      "=================================================================\n",
      "Total params: 101,030,407\n",
      "Trainable params: 101,030,407\n",
      "Non-trainable params: 0\n",
      "_________________________________________________________________\n",
      "None\n",
      "Train on 12355 samples, validate on 5296 samples\n",
      "Epoch 1/5\n",
      "12355/12355 [==============================] - ETA: 1s - loss: 1.0290 - acc: 0.579 - 330s 27ms/step - loss: 1.0283 - acc: 0.5800 - val_loss: 0.9992 - val_acc: 0.5880\n",
      "Epoch 2/5\n",
      "12355/12355 [==============================] - 346s 28ms/step - loss: 0.9358 - acc: 0.6128 - val_loss: 0.9840 - val_acc: 0.6067\n",
      "Epoch 3/5\n",
      "12355/12355 [==============================] - 292s 24ms/step - loss: 0.9179 - acc: 0.6246 - val_loss: 1.0293 - val_acc: 0.5663\n",
      "Epoch 4/5\n",
      "12355/12355 [==============================] - 281s 23ms/step - loss: 0.9047 - acc: 0.6305 - val_loss: 1.0109 - val_acc: 0.5923\n",
      "Epoch 5/5\n",
      "12355/12355 [==============================] - 277s 22ms/step - loss: 0.8965 - acc: 0.6387 - val_loss: 1.0274 - val_acc: 0.5776\n"
     ]
    }
   ],
   "source": [
    "# 模型构建并训练\n",
    "Mix_nn_6_Model,Mix_nn_6_history = BF_nn_Model(X_tr, X_te, Y_tr, Y_te,ReHyYN=True)"
   ]
  },
  {
   "cell_type": "code",
   "execution_count": 57,
   "metadata": {},
   "outputs": [
    {
     "name": "stdout",
     "output_type": "stream",
     "text": [
      "训练集准确度: 0.6413, 测试集准确度: 0.5776\n"
     ]
    }
   ],
   "source": [
    "# 计算模型准确度\n",
    "Mix_nn_6_pred_tr,Mix_nn_6_pred_te = Model_ACC_proba(Mix_nn_6_Model,X_tr, X_te, Y_tr, Y_te,ReYN = True)"
   ]
  },
  {
   "cell_type": "code",
   "execution_count": 58,
   "metadata": {},
   "outputs": [],
   "source": [
    "# 保存训练好的model为hdf5文件\n",
    "Mix_nn_6_Model.save(config.Model_path + 'Mix_nn_6_Model' + '.h5') "
   ]
  },
  {
   "cell_type": "code",
   "execution_count": 59,
   "metadata": {},
   "outputs": [
    {
     "name": "stdout",
     "output_type": "stream",
     "text": [
      "持久化存储路径：./data/WordVectorData/Mix_nn_6_pred.feat\n"
     ]
    }
   ],
   "source": [
    "save_pkl(np.vstack([Mix_nn_6_pred_tr,Mix_nn_6_pred_te]),\"Mix_nn_6_pred\")"
   ]
  },
  {
   "cell_type": "code",
   "execution_count": null,
   "metadata": {},
   "outputs": [],
   "source": []
  },
  {
   "cell_type": "code",
   "execution_count": null,
   "metadata": {},
   "outputs": [],
   "source": [
    "# 加载模型\n",
    "Mix_nn_6_Model = load_model(config.Model_path + 'Mix_nn_6_Model' + '.h5')"
   ]
  },
  {
   "cell_type": "code",
   "execution_count": null,
   "metadata": {},
   "outputs": [],
   "source": []
  },
  {
   "cell_type": "code",
   "execution_count": null,
   "metadata": {},
   "outputs": [],
   "source": []
  },
  {
   "cell_type": "code",
   "execution_count": null,
   "metadata": {},
   "outputs": [],
   "source": []
  },
  {
   "cell_type": "code",
   "execution_count": null,
   "metadata": {},
   "outputs": [],
   "source": []
  }
 ],
 "metadata": {
  "kernelspec": {
   "display_name": "Python 3",
   "language": "python",
   "name": "python3"
  },
  "language_info": {
   "codemirror_mode": {
    "name": "ipython",
    "version": 3
   },
   "file_extension": ".py",
   "mimetype": "text/x-python",
   "name": "python",
   "nbconvert_exporter": "python",
   "pygments_lexer": "ipython3",
   "version": "3.6.5"
  }
 },
 "nbformat": 4,
 "nbformat_minor": 2
}

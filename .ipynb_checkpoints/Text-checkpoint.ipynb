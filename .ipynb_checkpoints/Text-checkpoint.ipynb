{
 "cells": [
  {
   "cell_type": "code",
   "execution_count": 1,
   "metadata": {},
   "outputs": [],
   "source": [
    "import optuna"
   ]
  },
  {
   "cell_type": "code",
   "execution_count": 6,
   "metadata": {},
   "outputs": [],
   "source": [
    "def objective(trial):\n",
    "    x = trial.suggest_uniform('x', -10, 10)\n",
    "    y = trial.suggest_uniform('y', -10, 10)\n",
    "    return (x + y) **2"
   ]
  },
  {
   "cell_type": "code",
   "execution_count": 7,
   "metadata": {},
   "outputs": [
    {
     "name": "stderr",
     "output_type": "stream",
     "text": [
      "\u001b[32m[I 2023-03-07 18:07:49,011]\u001b[0m A new study created in memory with name: no-name-eb78cd01-f301-41c6-9f6a-9aacd43c41c0\u001b[0m\n",
      "\u001b[32m[I 2023-03-07 18:07:49,015]\u001b[0m Trial 0 finished with value: 53.39709718710073 and parameters: {'x': 9.656731971531634, 'y': -2.3494002295685856}. Best is trial 0 with value: 53.39709718710073.\u001b[0m\n",
      "\u001b[32m[I 2023-03-07 18:07:49,016]\u001b[0m Trial 1 finished with value: 37.12783716120752 and parameters: {'x': -0.39183116955389785, 'y': 6.485092788851688}. Best is trial 0 with value: 53.39709718710073.\u001b[0m\n",
      "\u001b[32m[I 2023-03-07 18:07:49,018]\u001b[0m Trial 2 finished with value: 112.39995828943219 and parameters: {'x': 7.742109024609171, 'y': 2.859775632820007}. Best is trial 2 with value: 112.39995828943219.\u001b[0m\n",
      "\u001b[32m[I 2023-03-07 18:07:49,019]\u001b[0m Trial 3 finished with value: 50.01507012229384 and parameters: {'x': -5.301707869531544, 'y': -1.7704254806177477}. Best is trial 2 with value: 112.39995828943219.\u001b[0m\n",
      "\u001b[32m[I 2023-03-07 18:07:49,021]\u001b[0m Trial 4 finished with value: 60.401225794804795 and parameters: {'x': 0.593658118544047, 'y': 7.178164434422843}. Best is trial 2 with value: 112.39995828943219.\u001b[0m\n",
      "\u001b[32m[I 2023-03-07 18:07:49,023]\u001b[0m Trial 5 finished with value: 3.772573043323982 and parameters: {'x': 0.8483788090764435, 'y': 1.0939324541674225}. Best is trial 2 with value: 112.39995828943219.\u001b[0m\n",
      "\u001b[32m[I 2023-03-07 18:07:49,025]\u001b[0m Trial 6 finished with value: 13.19501369894666 and parameters: {'x': -0.40788432484039916, 'y': -3.2246098181619898}. Best is trial 2 with value: 112.39995828943219.\u001b[0m\n",
      "\u001b[32m[I 2023-03-07 18:07:49,027]\u001b[0m Trial 7 finished with value: 14.122068146063082 and parameters: {'x': -1.2944987107174413, 'y': 5.05243273702273}. Best is trial 2 with value: 112.39995828943219.\u001b[0m\n",
      "\u001b[32m[I 2023-03-07 18:07:49,029]\u001b[0m Trial 8 finished with value: 144.36818089568757 and parameters: {'x': -3.1837564294449177, 'y': -8.831574647795009}. Best is trial 8 with value: 144.36818089568757.\u001b[0m\n",
      "\u001b[32m[I 2023-03-07 18:07:49,032]\u001b[0m Trial 9 finished with value: 0.35487096007369084 and parameters: {'x': 6.769292067533975, 'y': -6.173581600886216}. Best is trial 8 with value: 144.36818089568757.\u001b[0m\n",
      "\u001b[32m[I 2023-03-07 18:07:49,043]\u001b[0m Trial 10 finished with value: 283.8543015332412 and parameters: {'x': -8.387818610799242, 'y': -8.46015757428724}. Best is trial 10 with value: 283.8543015332412.\u001b[0m\n",
      "\u001b[32m[I 2023-03-07 18:07:49,055]\u001b[0m Trial 11 finished with value: 368.4875165139461 and parameters: {'x': -9.753420090927982, 'y': -9.442608574239875}. Best is trial 11 with value: 368.4875165139461.\u001b[0m\n",
      "\u001b[32m[I 2023-03-07 18:07:49,066]\u001b[0m Trial 12 finished with value: 347.9866786988011 and parameters: {'x': -9.608951194395136, 'y': -9.04544986001562}. Best is trial 11 with value: 368.4875165139461.\u001b[0m\n",
      "\u001b[32m[I 2023-03-07 18:07:49,078]\u001b[0m Trial 13 finished with value: 393.7936398776612 and parameters: {'x': -9.852736876179002, 'y': -9.991497547896449}. Best is trial 13 with value: 393.7936398776612.\u001b[0m\n",
      "\u001b[32m[I 2023-03-07 18:07:49,090]\u001b[0m Trial 14 finished with value: 160.28945160255947 and parameters: {'x': -6.658306607071159, 'y': -6.002240442822043}. Best is trial 13 with value: 393.7936398776612.\u001b[0m\n",
      "\u001b[32m[I 2023-03-07 18:07:49,102]\u001b[0m Trial 15 finished with value: 230.03913682249436 and parameters: {'x': -9.840748666970432, 'y': -5.3262924690750015}. Best is trial 13 with value: 393.7936398776612.\u001b[0m\n",
      "\u001b[32m[I 2023-03-07 18:07:49,114]\u001b[0m Trial 16 finished with value: 170.1570617841951 and parameters: {'x': -5.933787185393795, 'y': -7.110639278970021}. Best is trial 13 with value: 393.7936398776612.\u001b[0m\n",
      "\u001b[32m[I 2023-03-07 18:07:49,125]\u001b[0m Trial 17 finished with value: 42.2363238266081 and parameters: {'x': 3.3984401169163743, 'y': -9.897388018431519}. Best is trial 13 with value: 393.7936398776612.\u001b[0m\n",
      "\u001b[32m[I 2023-03-07 18:07:49,137]\u001b[0m Trial 18 finished with value: 25.887631454653075 and parameters: {'x': -4.0211785021557604, 'y': 9.10916744226295}. Best is trial 13 with value: 393.7936398776612.\u001b[0m\n",
      "\u001b[32m[I 2023-03-07 18:07:49,149]\u001b[0m Trial 19 finished with value: 136.96617084108402 and parameters: {'x': -7.398144462629601, 'y': -4.305110248820717}. Best is trial 13 with value: 393.7936398776612.\u001b[0m\n",
      "\u001b[32m[I 2023-03-07 18:07:49,161]\u001b[0m Trial 20 finished with value: 3.2626331332883685 and parameters: {'x': 2.8963285520322826, 'y': -1.0900525118633475}. Best is trial 13 with value: 393.7936398776612.\u001b[0m\n",
      "\u001b[32m[I 2023-03-07 18:07:49,173]\u001b[0m Trial 21 finished with value: 393.48680961726546 and parameters: {'x': -9.92078326342185, 'y': -9.915718686701956}. Best is trial 13 with value: 393.7936398776612.\u001b[0m\n",
      "\u001b[32m[I 2023-03-07 18:07:49,185]\u001b[0m Trial 22 finished with value: 239.08046260159654 and parameters: {'x': -8.223940808089802, 'y': -7.238286153172813}. Best is trial 13 with value: 393.7936398776612.\u001b[0m\n",
      "\u001b[32m[I 2023-03-07 18:07:49,197]\u001b[0m Trial 23 finished with value: 384.27878382304084 and parameters: {'x': -9.960618481009371, 'y': -9.64241148435672}. Best is trial 13 with value: 393.7936398776612.\u001b[0m\n",
      "\u001b[32m[I 2023-03-07 18:07:49,209]\u001b[0m Trial 24 finished with value: 154.73768975249297 and parameters: {'x': -4.872298350122341, 'y': -7.5670621540391565}. Best is trial 13 with value: 393.7936398776612.\u001b[0m\n",
      "\u001b[32m[I 2023-03-07 18:07:49,227]\u001b[0m Trial 25 finished with value: 52.83013562148071 and parameters: {'x': -2.8281161212417816, 'y': -4.440318071999615}. Best is trial 13 with value: 393.7936398776612.\u001b[0m\n",
      "\u001b[32m[I 2023-03-07 18:07:49,240]\u001b[0m Trial 26 finished with value: 242.8740058683186 and parameters: {'x': -7.848503825440561, 'y': -7.735911655042451}. Best is trial 13 with value: 393.7936398776612.\u001b[0m\n",
      "\u001b[32m[I 2023-03-07 18:07:49,251]\u001b[0m Trial 27 finished with value: 20.416303642215727 and parameters: {'x': -6.396546332065782, 'y': 1.8781059327448255}. Best is trial 13 with value: 393.7936398776612.\u001b[0m\n",
      "\u001b[32m[I 2023-03-07 18:07:49,264]\u001b[0m Trial 28 finished with value: 366.81085934339023 and parameters: {'x': -9.211162498589701, 'y': -9.941144394925509}. Best is trial 13 with value: 393.7936398776612.\u001b[0m\n",
      "\u001b[32m[I 2023-03-07 18:07:49,276]\u001b[0m Trial 29 finished with value: 107.56046337522693 and parameters: {'x': -7.368799187110177, 'y': -3.002336882541349}. Best is trial 13 with value: 393.7936398776612.\u001b[0m\n",
      "\u001b[32m[I 2023-03-07 18:07:49,288]\u001b[0m Trial 30 finished with value: 228.699929271996 and parameters: {'x': -8.519379278504054, 'y': -6.603448805951446}. Best is trial 13 with value: 393.7936398776612.\u001b[0m\n",
      "\u001b[32m[I 2023-03-07 18:07:49,301]\u001b[0m Trial 31 finished with value: 371.11804777977045 and parameters: {'x': -9.908529053848728, 'y': -9.35589535436473}. Best is trial 13 with value: 393.7936398776612.\u001b[0m\n",
      "\u001b[32m[I 2023-03-07 18:07:49,313]\u001b[0m Trial 32 finished with value: 286.25166370435244 and parameters: {'x': -8.651721144828908, 'y': -8.267252337754263}. Best is trial 13 with value: 393.7936398776612.\u001b[0m\n",
      "\u001b[32m[I 2023-03-07 18:07:49,326]\u001b[0m Trial 33 finished with value: 285.3945579439089 and parameters: {'x': -6.997538764845062, 'y': -9.896086007355512}. Best is trial 13 with value: 393.7936398776612.\u001b[0m\n",
      "\u001b[32m[I 2023-03-07 18:07:49,339]\u001b[0m Trial 34 finished with value: 222.52293301037275 and parameters: {'x': -9.812083067011333, 'y': -5.105119519612366}. Best is trial 13 with value: 393.7936398776612.\u001b[0m\n",
      "\u001b[32m[I 2023-03-07 18:07:49,352]\u001b[0m Trial 35 finished with value: 183.85015093175375 and parameters: {'x': -5.029302631980079, 'y': -8.52983269929211}. Best is trial 13 with value: 393.7936398776612.\u001b[0m\n",
      "\u001b[32m[I 2023-03-07 18:07:49,364]\u001b[0m Trial 36 finished with value: 79.4899814263863 and parameters: {'x': 9.382938611740437, 'y': -0.46722319308858956}. Best is trial 13 with value: 393.7936398776612.\u001b[0m\n",
      "\u001b[32m[I 2023-03-07 18:07:49,378]\u001b[0m Trial 37 finished with value: 196.4697540510797 and parameters: {'x': -6.247264795371034, 'y': -7.76950209471741}. Best is trial 13 with value: 393.7936398776612.\u001b[0m\n",
      "\u001b[32m[I 2023-03-07 18:07:49,391]\u001b[0m Trial 38 finished with value: 15.939185145020538 and parameters: {'x': -8.88573260470081, 'y': 4.893341698862487}. Best is trial 13 with value: 393.7936398776612.\u001b[0m\n",
      "\u001b[32m[I 2023-03-07 18:07:49,403]\u001b[0m Trial 39 finished with value: 76.5432576776308 and parameters: {'x': -2.33074240088936, 'y': -6.418157968736002}. Best is trial 13 with value: 393.7936398776612.\u001b[0m\n"
     ]
    },
    {
     "name": "stderr",
     "output_type": "stream",
     "text": [
      "\u001b[32m[I 2023-03-07 18:07:49,416]\u001b[0m Trial 40 finished with value: 41.48904588356792 and parameters: {'x': 2.143450029783108, 'y': -8.584649132711686}. Best is trial 13 with value: 393.7936398776612.\u001b[0m\n",
      "\u001b[32m[I 2023-03-07 18:07:49,429]\u001b[0m Trial 41 finished with value: 352.0440103744242 and parameters: {'x': -9.471162192084224, 'y': -9.291673690969919}. Best is trial 13 with value: 393.7936398776612.\u001b[0m\n",
      "\u001b[32m[I 2023-03-07 18:07:49,442]\u001b[0m Trial 42 finished with value: 371.6424484036369 and parameters: {'x': -9.990602990836768, 'y': -9.287427209462143}. Best is trial 13 with value: 393.7936398776612.\u001b[0m\n",
      "\u001b[32m[I 2023-03-07 18:07:49,455]\u001b[0m Trial 43 finished with value: 15.178887213523787 and parameters: {'x': 5.02552654245126, 'y': -8.921535681753141}. Best is trial 13 with value: 393.7936398776612.\u001b[0m\n",
      "\u001b[32m[I 2023-03-07 18:07:49,469]\u001b[0m Trial 44 finished with value: 253.535195747132 and parameters: {'x': -7.979270878662463, 'y': -7.943517688266761}. Best is trial 13 with value: 393.7936398776612.\u001b[0m\n",
      "\u001b[32m[I 2023-03-07 18:07:49,481]\u001b[0m Trial 45 finished with value: 240.32296702820955 and parameters: {'x': -9.888658657770414, 'y': -5.613694938642279}. Best is trial 13 with value: 393.7936398776612.\u001b[0m\n",
      "\u001b[32m[I 2023-03-07 18:07:49,494]\u001b[0m Trial 46 finished with value: 354.4163302190533 and parameters: {'x': -8.866251011601747, 'y': -9.959697310303667}. Best is trial 13 with value: 393.7936398776612.\u001b[0m\n",
      "\u001b[32m[I 2023-03-07 18:07:49,507]\u001b[0m Trial 47 finished with value: 274.9432274669164 and parameters: {'x': -7.614180927895314, 'y': -8.967231179247927}. Best is trial 13 with value: 393.7936398776612.\u001b[0m\n",
      "\u001b[32m[I 2023-03-07 18:07:49,519]\u001b[0m Trial 48 finished with value: 127.25374120781069 and parameters: {'x': -4.229339255517508, 'y': -7.051340742062898}. Best is trial 13 with value: 393.7936398776612.\u001b[0m\n",
      "\u001b[32m[I 2023-03-07 18:07:49,533]\u001b[0m Trial 49 finished with value: 84.33442092062718 and parameters: {'x': -5.583548833381663, 'y': -3.599828591108042}. Best is trial 13 with value: 393.7936398776612.\u001b[0m\n",
      "\u001b[32m[I 2023-03-07 18:07:49,546]\u001b[0m Trial 50 finished with value: 37.588272730551765 and parameters: {'x': -6.852452949404629, 'y': 0.721525390661844}. Best is trial 13 with value: 393.7936398776612.\u001b[0m\n",
      "\u001b[32m[I 2023-03-07 18:07:49,560]\u001b[0m Trial 51 finished with value: 365.1734609706414 and parameters: {'x': -9.906571299594114, 'y': -9.202941016805834}. Best is trial 13 with value: 393.7936398776612.\u001b[0m\n",
      "\u001b[32m[I 2023-03-07 18:07:49,573]\u001b[0m Trial 52 finished with value: 336.6025953676455 and parameters: {'x': -8.9704168899997, 'y': -9.376315662900435}. Best is trial 13 with value: 393.7936398776612.\u001b[0m\n",
      "\u001b[32m[I 2023-03-07 18:07:49,586]\u001b[0m Trial 53 finished with value: 260.97781315615657 and parameters: {'x': -8.037881109229112, 'y': -8.116926632002492}. Best is trial 13 with value: 393.7936398776612.\u001b[0m\n",
      "\u001b[32m[I 2023-03-07 18:07:49,600]\u001b[0m Trial 54 finished with value: 276.0300792434294 and parameters: {'x': -9.951827831727622, 'y': -6.662325148290028}. Best is trial 13 with value: 393.7936398776612.\u001b[0m\n",
      "\u001b[32m[I 2023-03-07 18:07:49,613]\u001b[0m Trial 55 finished with value: 340.7561117332902 and parameters: {'x': -9.042835310976992, 'y': -9.416745175407042}. Best is trial 13 with value: 393.7936398776612.\u001b[0m\n",
      "\u001b[32m[I 2023-03-07 18:07:49,626]\u001b[0m Trial 56 finished with value: 241.16517478071967 and parameters: {'x': -8.16698514175398, 'y': -7.362508564762008}. Best is trial 13 with value: 393.7936398776612.\u001b[0m\n",
      "\u001b[32m[I 2023-03-07 18:07:49,640]\u001b[0m Trial 57 finished with value: 126.95400728049663 and parameters: {'x': -9.199363830761781, 'y': -2.0680230570883307}. Best is trial 13 with value: 393.7936398776612.\u001b[0m\n",
      "\u001b[32m[I 2023-03-07 18:07:49,654]\u001b[0m Trial 58 finished with value: 11.203618802203763 and parameters: {'x': -7.226461636746695, 'y': 3.8792809122856204}. Best is trial 13 with value: 393.7936398776612.\u001b[0m\n",
      "\u001b[32m[I 2023-03-07 18:07:49,668]\u001b[0m Trial 59 finished with value: 0.045311864547820054 and parameters: {'x': -8.417517159540227, 'y': 8.204651322572854}. Best is trial 13 with value: 393.7936398776612.\u001b[0m\n",
      "\u001b[32m[I 2023-03-07 18:07:49,682]\u001b[0m Trial 60 finished with value: 211.78359412641106 and parameters: {'x': -6.084387725933263, 'y': -8.468398746987003}. Best is trial 13 with value: 393.7936398776612.\u001b[0m\n",
      "\u001b[32m[I 2023-03-07 18:07:49,695]\u001b[0m Trial 61 finished with value: 365.23265204477735 and parameters: {'x': -9.251738923720422, 'y': -9.859322063173458}. Best is trial 13 with value: 393.7936398776612.\u001b[0m\n",
      "\u001b[32m[I 2023-03-07 18:07:49,709]\u001b[0m Trial 62 finished with value: 352.58560380665403 and parameters: {'x': -9.19876315810362, 'y': -9.578499789585374}. Best is trial 13 with value: 393.7936398776612.\u001b[0m\n",
      "\u001b[32m[I 2023-03-07 18:07:49,722]\u001b[0m Trial 63 finished with value: 88.3567634136401 and parameters: {'x': -0.576977514148064, 'y': -8.822850325426451}. Best is trial 13 with value: 393.7936398776612.\u001b[0m\n",
      "\u001b[32m[I 2023-03-07 18:07:49,736]\u001b[0m Trial 64 finished with value: 321.30467136834267 and parameters: {'x': -9.925560825717957, 'y': -7.999412573658196}. Best is trial 13 with value: 393.7936398776612.\u001b[0m\n",
      "\u001b[32m[I 2023-03-07 18:07:49,751]\u001b[0m Trial 65 finished with value: 211.93364993473915 and parameters: {'x': -7.484275080265247, 'y': -7.073666049397943}. Best is trial 13 with value: 393.7936398776612.\u001b[0m\n",
      "\u001b[32m[I 2023-03-07 18:07:49,765]\u001b[0m Trial 66 finished with value: 341.90333187562584 and parameters: {'x': -8.493042594337219, 'y': -9.997585623103795}. Best is trial 13 with value: 393.7936398776612.\u001b[0m\n",
      "\u001b[32m[I 2023-03-07 18:07:49,779]\u001b[0m Trial 67 finished with value: 163.0601142556961 and parameters: {'x': -6.788144889862631, 'y': -5.981354483867574}. Best is trial 13 with value: 393.7936398776612.\u001b[0m\n",
      "\u001b[32m[I 2023-03-07 18:07:49,792]\u001b[0m Trial 68 finished with value: 318.94108594659804 and parameters: {'x': -9.36791775548243, 'y': -8.491003990989222}. Best is trial 13 with value: 393.7936398776612.\u001b[0m\n",
      "\u001b[32m[I 2023-03-07 18:07:49,806]\u001b[0m Trial 69 finished with value: 160.61650599411186 and parameters: {'x': -7.862716526219014, 'y': -4.810740223780643}. Best is trial 13 with value: 393.7936398776612.\u001b[0m\n",
      "\u001b[32m[I 2023-03-07 18:07:49,820]\u001b[0m Trial 70 finished with value: 316.02646804209854 and parameters: {'x': -8.481991544777248, 'y': -9.295141746113568}. Best is trial 13 with value: 393.7936398776612.\u001b[0m\n",
      "\u001b[32m[I 2023-03-07 18:07:49,833]\u001b[0m Trial 71 finished with value: 359.8350813435707 and parameters: {'x': -9.422017590962625, 'y': -9.547301884009867}. Best is trial 13 with value: 393.7936398776612.\u001b[0m\n",
      "\u001b[32m[I 2023-03-07 18:07:49,847]\u001b[0m Trial 72 finished with value: 371.2311718400483 and parameters: {'x': -9.36292611376866, 'y': -9.904434157945998}. Best is trial 13 with value: 393.7936398776612.\u001b[0m\n",
      "\u001b[32m[I 2023-03-07 18:07:49,861]\u001b[0m Trial 73 finished with value: 274.3391988186009 and parameters: {'x': -8.936296621499261, 'y': -7.626891441751149}. Best is trial 13 with value: 393.7936398776612.\u001b[0m\n",
      "\u001b[32m[I 2023-03-07 18:07:49,875]\u001b[0m Trial 74 finished with value: 352.81383884615445 and parameters: {'x': -9.92994825116309, 'y': -8.853391144326588}. Best is trial 13 with value: 393.7936398776612.\u001b[0m\n",
      "\u001b[32m[I 2023-03-07 18:07:49,889]\u001b[0m Trial 75 finished with value: 278.58008437256296 and parameters: {'x': -8.619514738893153, 'y': -8.071203770882363}. Best is trial 13 with value: 393.7936398776612.\u001b[0m\n",
      "\u001b[32m[I 2023-03-07 18:07:49,903]\u001b[0m Trial 76 finished with value: 77.06842023066496 and parameters: {'x': 1.1657211606149018, 'y': -9.944583286805571}. Best is trial 13 with value: 393.7936398776612.\u001b[0m\n",
      "\u001b[32m[I 2023-03-07 18:07:49,917]\u001b[0m Trial 77 finished with value: 268.33287737926855 and parameters: {'x': -7.570236466569124, 'y': -8.810632783237756}. Best is trial 13 with value: 393.7936398776612.\u001b[0m\n",
      "\u001b[32m[I 2023-03-07 18:07:49,931]\u001b[0m Trial 78 finished with value: 266.617156099502 and parameters: {'x': -9.539088984664948, 'y': -6.789326618188317}. Best is trial 13 with value: 393.7936398776612.\u001b[0m\n",
      "\u001b[32m[I 2023-03-07 18:07:49,945]\u001b[0m Trial 79 finished with value: 6.78373994996274 and parameters: {'x': 4.96736560698965, 'y': -7.571926980803433}. Best is trial 13 with value: 393.7936398776612.\u001b[0m\n"
     ]
    },
    {
     "name": "stderr",
     "output_type": "stream",
     "text": [
      "\u001b[32m[I 2023-03-07 18:07:49,959]\u001b[0m Trial 80 finished with value: 299.2543870696038 and parameters: {'x': -8.081336763275093, 'y': -9.217633930659382}. Best is trial 13 with value: 393.7936398776612.\u001b[0m\n",
      "\u001b[32m[I 2023-03-07 18:07:49,973]\u001b[0m Trial 81 finished with value: 370.1611215665213 and parameters: {'x': -9.350109534385608, 'y': -9.889462227130327}. Best is trial 13 with value: 393.7936398776612.\u001b[0m\n",
      "\u001b[32m[I 2023-03-07 18:07:49,987]\u001b[0m Trial 82 finished with value: 314.0230732100002 and parameters: {'x': -9.30425939335887, 'y': -8.416436789635751}. Best is trial 13 with value: 393.7936398776612.\u001b[0m\n",
      "\u001b[32m[I 2023-03-07 18:07:49,999]\u001b[0m Trial 83 finished with value: 348.91130474064994 and parameters: {'x': -8.703139326140002, 'y': -9.976028341094262}. Best is trial 13 with value: 393.7936398776612.\u001b[0m\n",
      "\u001b[32m[I 2023-03-07 18:07:50,013]\u001b[0m Trial 84 finished with value: 356.0654095335945 and parameters: {'x': -9.519394841062546, 'y': -9.35030069261246}. Best is trial 13 with value: 393.7936398776612.\u001b[0m\n",
      "\u001b[32m[I 2023-03-07 18:07:50,027]\u001b[0m Trial 85 finished with value: 314.1135117473196 and parameters: {'x': -8.761795502047018, 'y': -8.96145227445601}. Best is trial 13 with value: 393.7936398776612.\u001b[0m\n",
      "\u001b[32m[I 2023-03-07 18:07:50,041]\u001b[0m Trial 86 finished with value: 236.51572682753377 and parameters: {'x': -7.066426469207723, 'y': -8.312641344789775}. Best is trial 13 with value: 393.7936398776612.\u001b[0m\n",
      "\u001b[32m[I 2023-03-07 18:07:50,053]\u001b[0m Trial 87 finished with value: 383.3636638962494 and parameters: {'x': -9.971907272353555, 'y': -9.607767492469517}. Best is trial 13 with value: 393.7936398776612.\u001b[0m\n",
      "\u001b[32m[I 2023-03-07 18:07:50,067]\u001b[0m Trial 88 finished with value: 366.46728006470977 and parameters: {'x': -9.6318675627717, 'y': -9.511467571543578}. Best is trial 13 with value: 393.7936398776612.\u001b[0m\n",
      "\u001b[32m[I 2023-03-07 18:07:50,081]\u001b[0m Trial 89 finished with value: 254.9646363265109 and parameters: {'x': -8.122079440660146, 'y': -7.845532664050781}. Best is trial 13 with value: 393.7936398776612.\u001b[0m\n",
      "\u001b[32m[I 2023-03-07 18:07:50,095]\u001b[0m Trial 90 finished with value: 348.65423224063676 and parameters: {'x': -9.871124406054903, 'y': -8.801160731030937}. Best is trial 13 with value: 393.7936398776612.\u001b[0m\n",
      "\u001b[32m[I 2023-03-07 18:07:50,108]\u001b[0m Trial 91 finished with value: 382.8680361085635 and parameters: {'x': -9.999795564095113, 'y': -9.567218416289414}. Best is trial 13 with value: 393.7936398776612.\u001b[0m\n",
      "\u001b[32m[I 2023-03-07 18:07:50,122]\u001b[0m Trial 92 finished with value: 381.30755138625 and parameters: {'x': -9.98223086560924, 'y': -9.54486700853094}. Best is trial 13 with value: 393.7936398776612.\u001b[0m\n",
      "\u001b[32m[I 2023-03-07 18:07:50,135]\u001b[0m Trial 93 finished with value: 348.286835667517 and parameters: {'x': -9.04408416647997, 'y': -9.618360359024106}. Best is trial 13 with value: 393.7936398776612.\u001b[0m\n",
      "\u001b[32m[I 2023-03-07 18:07:50,150]\u001b[0m Trial 94 finished with value: 320.8726124060473 and parameters: {'x': -9.55299478879511, 'y': -8.359922684526968}. Best is trial 13 with value: 393.7936398776612.\u001b[0m\n",
      "\u001b[32m[I 2023-03-07 18:07:50,165]\u001b[0m Trial 95 finished with value: 364.3410887340529 and parameters: {'x': -9.952965361714254, 'y': -9.13475552722513}. Best is trial 13 with value: 393.7936398776612.\u001b[0m\n",
      "\u001b[32m[I 2023-03-07 18:07:50,178]\u001b[0m Trial 96 finished with value: 262.802987233937 and parameters: {'x': -8.73761409944602, 'y': -7.473585339026663}. Best is trial 13 with value: 393.7936398776612.\u001b[0m\n",
      "\u001b[32m[I 2023-03-07 18:07:50,192]\u001b[0m Trial 97 finished with value: 321.7879587711786 and parameters: {'x': -8.366959280031697, 'y': -9.57148989405185}. Best is trial 13 with value: 393.7936398776612.\u001b[0m\n",
      "\u001b[32m[I 2023-03-07 18:07:50,207]\u001b[0m Trial 98 finished with value: 273.34400352288185 and parameters: {'x': -7.744139415417941, 'y': -8.788978969293453}. Best is trial 13 with value: 393.7936398776612.\u001b[0m\n",
      "\u001b[32m[I 2023-03-07 18:07:50,221]\u001b[0m Trial 99 finished with value: 17.995491292914956 and parameters: {'x': -2.128705068345088, 'y': 6.37081436596048}. Best is trial 13 with value: 393.7936398776612.\u001b[0m\n"
     ]
    }
   ],
   "source": [
    "study = optuna.create_study(direction='maximize')\n",
    "study.optimize(objective, n_trials=100)"
   ]
  },
  {
   "cell_type": "code",
   "execution_count": 8,
   "metadata": {},
   "outputs": [
    {
     "name": "stdout",
     "output_type": "stream",
     "text": [
      "{'x': -9.852736876179002, 'y': -9.991497547896449}\n",
      "393.7936398776612\n"
     ]
    }
   ],
   "source": [
    "print(study.best_params)\n",
    "print(study.best_value)"
   ]
  },
  {
   "cell_type": "code",
   "execution_count": 5,
   "metadata": {},
   "outputs": [
    {
     "name": "stderr",
     "output_type": "stream",
     "text": [
      "UsageError: Line magic function `%optuna` not found.\n"
     ]
    }
   ],
   "source": [
    "% optuna-dashboard sqlite:///db.sqlite3"
   ]
  },
  {
   "cell_type": "code",
   "execution_count": null,
   "metadata": {},
   "outputs": [],
   "source": []
  }
 ],
 "metadata": {
  "kernelspec": {
   "display_name": "Python 3",
   "language": "python",
   "name": "python3"
  },
  "language_info": {
   "codemirror_mode": {
    "name": "ipython",
    "version": 3
   },
   "file_extension": ".py",
   "mimetype": "text/x-python",
   "name": "python",
   "nbconvert_exporter": "python",
   "pygments_lexer": "ipython3",
   "version": "3.6.5"
  }
 },
 "nbformat": 4,
 "nbformat_minor": 2
}

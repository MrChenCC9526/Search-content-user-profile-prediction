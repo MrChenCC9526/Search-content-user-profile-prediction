{
 "cells": [
  {
   "cell_type": "code",
   "execution_count": 1,
   "metadata": {},
   "outputs": [],
   "source": [
    "import pandas as pd\n",
    "import sys\n",
    "import os\n",
    "import pickle\n",
    "import numpy as np\n",
    "import h5py\n",
    "import config # 自定义配置文件\n",
    "import time\n",
    "from datetime import datetime\n",
    "\n",
    "# 不显示VisibleDeprecation警告\n",
    "import warnings\n",
    "warnings.filterwarnings(\"ignore\", category=Warning)"
   ]
  },
  {
   "cell_type": "code",
   "execution_count": 2,
   "metadata": {},
   "outputs": [],
   "source": [
    "# 导入自定义模块\n",
    "sys.path.append(config.Py_path) # 添加路径\n",
    "from SaveAndLoad import save_pkl,load_pkl # 数据文件持久化与加载\n",
    "from BuildModel import get_train_test,BF_nn_Model,BF_XGB_Model\n",
    "from ModelEvaluation import Model_ACC_proba,Model_ACC"
   ]
  },
  {
   "cell_type": "code",
   "execution_count": 3,
   "metadata": {},
   "outputs": [],
   "source": [
    "from tensorflow.keras.models import load_model"
   ]
  },
  {
   "cell_type": "code",
   "execution_count": 4,
   "metadata": {},
   "outputs": [],
   "source": [
    "import tensorflow as tf\n",
    "from tensorflow.keras.layers import Dense, Dropout, Activation\n",
    "from tensorflow.python.keras.utils import np_utils\n",
    "from sklearn.model_selection import KFold\n",
    "from sklearn.metrics import accuracy_score\n",
    "from sklearn.linear_model import LogisticRegression\n",
    "import xgboost as xgb\n",
    "from sklearn import svm\n",
    "from sklearn.tree import DecisionTreeClassifier"
   ]
  },
  {
   "cell_type": "markdown",
   "metadata": {},
   "source": [
    "### 数据载入"
   ]
  },
  {
   "cell_type": "markdown",
   "metadata": {},
   "source": [
    "#### DF数据"
   ]
  },
  {
   "cell_type": "code",
   "execution_count": 5,
   "metadata": {},
   "outputs": [],
   "source": [
    "data = pd.read_csv(config.AF_Data_path + \"AFAfter.csv\")\n",
    "col_list = [\"Education\",\"age\",\"gender\"]"
   ]
  },
  {
   "cell_type": "code",
   "execution_count": 6,
   "metadata": {},
   "outputs": [],
   "source": [
    "# 加载TFIDF词向量数据\n",
    "TFIDF_HW_sp_toarray = load_pkl(\"TFIDF_HW_sp_toarray\")"
   ]
  },
  {
   "cell_type": "code",
   "execution_count": 7,
   "metadata": {},
   "outputs": [
    {
     "name": "stdout",
     "output_type": "stream",
     "text": [
      "KeysView(<HDF5 file \"TFIDF_sp_toarray.hdf5\" (mode r)>)\n"
     ]
    }
   ],
   "source": [
    "with h5py.File(config.WV_Data_path + \"TFIDF_sp_toarray.hdf5\", 'r') as f:  # 读取的时候是‘r’\n",
    "    print(f.keys())\n",
    "    TFIDF_sp_toarray = f.get(\"TFIDF_sp_toarray\")[:]"
   ]
  },
  {
   "cell_type": "code",
   "execution_count": 8,
   "metadata": {},
   "outputs": [],
   "source": [
    "# 加载W2V词向量数据\n",
    "W2V_X_sp = load_pkl(\"W2V_X_sp\")\n",
    "W2V_HW_sp = load_pkl(\"W2V_HW_sp\")"
   ]
  },
  {
   "cell_type": "code",
   "execution_count": 9,
   "metadata": {},
   "outputs": [],
   "source": [
    "# 加载D2V词向量数据\n",
    "D2V_X_sp = load_pkl(\"D2V_X_sp\")\n",
    "D2V_HW_X_sp = load_pkl(\"D2V_HW_X_sp\")"
   ]
  },
  {
   "cell_type": "code",
   "execution_count": 10,
   "metadata": {},
   "outputs": [],
   "source": [
    "# 加载人工特征二层模型输出\n",
    "AF_nn_pred = load_pkl(\"AF_nn_pred\")"
   ]
  },
  {
   "cell_type": "code",
   "execution_count": 11,
   "metadata": {},
   "outputs": [
    {
     "name": "stdout",
     "output_type": "stream",
     "text": [
      "2023-03-09 10:47:47.243984 Educationstack:1  NN_Model\t训练集准确度: 0.585281, 测试集准确度: 0.574269\n",
      "2023-03-09 10:47:49.317417 Educationstack:2  NN_Model\t训练集准确度: 0.579332, 测试集准确度: 0.571890\n",
      "2023-03-09 10:47:51.354480 Educationstack:3  NN_Model\t训练集准确度: 0.583956, 测试集准确度: 0.596294\n",
      "2023-03-09 10:47:53.267725 agestack:1  NN_Model\t训练集准确度: 0.564035, 测试集准确度: 0.570360\n",
      "2023-03-09 10:47:55.082377 agestack:2  NN_Model\t训练集准确度: 0.566500, 测试集准确度: 0.552175\n",
      "2023-03-09 10:47:56.940036 agestack:3  NN_Model\t训练集准确度: 0.565517, 测试集准确度: 0.563488\n",
      "2023-03-09 10:47:58.983812 genderstack:1  NN_Model\t训练集准确度: 0.831818, 测试集准确度: 0.827498\n",
      "2023-03-09 10:48:00.947540 genderstack:2  NN_Model\t训练集准确度: 0.830798, 测试集准确度: 0.832257\n",
      "2023-03-09 10:48:02.911110 genderstack:3  NN_Model\t训练集准确度: 0.831322, 测试集准确度: 0.825429\n"
     ]
    }
   ],
   "source": [
    "pred_dict = {}\n",
    "for col_y in col_list:\n",
    "    # 生成特征与目标\n",
    "    X = np.hstack([D2V_HW_X_sp,D2V_X_sp])\n",
    "    Y = data[col_y]\n",
    "    \n",
    "    if len(Y.unique()) > 2:\n",
    "        Y[Y==6] = 0\n",
    "    else:\n",
    "        Y[Y==2] = 0\n",
    "    # 交叉检验\n",
    "    KF = KFold(\n",
    "        n_splits=3, # 折叠次数；拆分数量\n",
    "        shuffle=True, # 是否在拆分成批之前对数据进行混洗\n",
    "     )\n",
    "    for k,(tr,te) in enumerate(KF.split(X,Y)):\n",
    "        # 训练集与测试集划分\n",
    "        X_train = X.take(tr,axis = 0) # numpy按行取值\n",
    "        X_test = X.take(te,axis = 0) \n",
    "        y_train = Y[tr]\n",
    "        y_test = Y[te]\n",
    "\n",
    "        print('{} {}stack:{}  NN_Model'.format(datetime.now(),col_y,k+1),end=\"\\t\")\n",
    "        NN_Model = BF_nn_Model(X_train, X_test, y_train, y_test) # NN模型构建及训练\n",
    "        Model_ACC_proba(NN_Model,X_train, X_test, y_train, y_test) # 测试泛化效果\n",
    "    NN_pred = NN_Model.predict_proba(X) # 输出概率结果\n",
    "    pred_dict[col_y] = NN_pred # 保存结果\n"
   ]
  },
  {
   "cell_type": "code",
   "execution_count": 105,
   "metadata": {},
   "outputs": [
    {
     "name": "stdout",
     "output_type": "stream",
     "text": [
      "2023-03-08 14:28:02.869740 Educationstack:1  NN_Model\t训练集准确度: 0.675533, 测试集准确度: 0.609789\n",
      "2023-03-08 14:28:14.294966 Educationstack:2  NN_Model\t训练集准确度: 0.674259, 测试集准确度: 0.615738\n",
      "2023-03-08 14:28:25.984380 Educationstack:3  NN_Model\t训练集准确度: 0.676496, 测试集准确度: 0.610573\n",
      "2023-03-08 14:28:38.371096 agestack:1  NN_Model\t训练集准确度: 0.665250, 测试集准确度: 0.582427\n",
      "2023-03-08 14:28:50.251622 agestack:2  NN_Model\t训练集准确度: 0.664145, 测试集准确度: 0.584296\n",
      "2023-03-08 14:29:01.693766 agestack:3  NN_Model\t训练集准确度: 0.663664, 测试集准确度: 0.587455\n",
      "2023-03-08 14:29:14.633857 genderstack:1  NN_Model\t训练集准确度: 0.863092, 测试集准确度: 0.834636\n",
      "2023-03-08 14:29:27.883278 genderstack:2  NN_Model\t训练集准确度: 0.861902, 测试集准确度: 0.831747\n",
      "2023-03-08 14:29:40.235484 genderstack:3  NN_Model\t训练集准确度: 0.862339, 测试集准确度: 0.824919\n"
     ]
    }
   ],
   "source": [
    "pred_dict = {}\n",
    "for col_y in col_list:\n",
    "    # 生成特征与目标\n",
    "    X = np.hstack([D2V_HW_X_sp,D2V_X_sp])\n",
    "    Y = data[col_y]\n",
    "    \n",
    "    if len(Y.unique()) > 2:\n",
    "        Y[Y==6] = 0\n",
    "    else:\n",
    "        Y[Y==2] = 0\n",
    "    # 交叉检验\n",
    "    KF = KFold(\n",
    "        n_splits=3, # 折叠次数；拆分数量\n",
    "        shuffle=True, # 是否在拆分成批之前对数据进行混洗\n",
    "     )\n",
    "    for k,(tr,te) in enumerate(KF.split(X,Y)):\n",
    "        # 训练集与测试集划分\n",
    "        X_train = X.take(tr,axis = 0) # numpy按行取值\n",
    "        X_test = X.take(te,axis = 0) \n",
    "        y_train = Y[tr]\n",
    "        y_test = Y[te]\n",
    "\n",
    "        print('{} {}stack:{}  NN_Model'.format(datetime.now(),col_y,k+1),end=\"\\t\")\n",
    "        NN_Model = BF_nn_Model(X_train, X_test, y_train, y_test) # NN模型构建及训练\n",
    "        Model_ACC_proba(NN_Model,X_train, X_test, y_train, y_test) # 测试泛化效果\n",
    "    NN_pred = NN_Model.predict_proba(X) # 输出概率结果\n",
    "    pred_dict[col_y] = NN_pred # 保存结果\n"
   ]
  },
  {
   "cell_type": "code",
   "execution_count": 12,
   "metadata": {},
   "outputs": [],
   "source": [
    "first_floor_pred_nn = np.hstack([pred_dict[\"Education\"],pred_dict[\"age\"],pred_dict[\"gender\"]])"
   ]
  },
  {
   "cell_type": "code",
   "execution_count": 13,
   "metadata": {},
   "outputs": [],
   "source": [
    "# 划分数据集\n",
    "X_tr, X_te, Y_tr, Y_te = get_train_test(first_floor_pred_nn,data[\"Education\"])"
   ]
  },
  {
   "cell_type": "code",
   "execution_count": 14,
   "metadata": {},
   "outputs": [
    {
     "name": "stdout",
     "output_type": "stream",
     "text": [
      "训练集准确度: 0.772481, 测试集准确度: 0.573452\n"
     ]
    }
   ],
   "source": [
    "XG = BF_XGB_Model(X_tr, X_te, Y_tr, Y_te)\n",
    "Model_ACC(XG,X_tr, X_te, Y_tr, Y_te)"
   ]
  },
  {
   "cell_type": "code",
   "execution_count": 15,
   "metadata": {},
   "outputs": [
    {
     "name": "stdout",
     "output_type": "stream",
     "text": [
      "训练集准确度: 0.592635, 测试集准确度: 0.581193\n"
     ]
    }
   ],
   "source": [
    "lr = LogisticRegression(max_iter=100000)\n",
    "lr.fit(X_tr,Y_tr)\n",
    "Model_ACC(lr,X_tr, X_te, Y_tr, Y_te)"
   ]
  },
  {
   "cell_type": "code",
   "execution_count": 16,
   "metadata": {},
   "outputs": [
    {
     "name": "stdout",
     "output_type": "stream",
     "text": [
      "2023-03-09 10:48:31.422039 Educationstack:1  XGB_Model\t训练集准确度: 0.976715, 测试集准确度: 0.563052\n",
      "2023-03-09 10:49:02.497978 Educationstack:2  XGB_Model\t训练集准确度: 0.973315, 测试集准确度: 0.575289\n",
      "2023-03-09 10:49:33.876108 Educationstack:3  XGB_Model\t训练集准确度: 0.979181, 测试集准确度: 0.552949\n",
      "2023-03-09 10:50:05.094666 agestack:1  XGB_Model\t训练集准确度: 0.980624, 测试集准确度: 0.539939\n",
      "2023-03-09 10:50:35.907880 agestack:2  XGB_Model\t训练集准确度: 0.980454, 测试集准确度: 0.531441\n",
      "2023-03-09 10:51:05.727177 agestack:3  XGB_Model\t训练集准确度: 0.980031, 测试集准确度: 0.530682\n",
      "2023-03-09 10:51:37.025521 genderstack:1  XGB_Model\t训练集准确度: 0.986148, 测试集准确度: 0.818831\n",
      "2023-03-09 10:51:49.107229 genderstack:2  XGB_Model\t训练集准确度: 0.989972, 测试集准确度: 0.805744\n",
      "2023-03-09 10:52:01.398377 genderstack:3  XGB_Model\t训练集准确度: 0.988273, 测试集准确度: 0.813700\n"
     ]
    }
   ],
   "source": [
    "pred_dict = {}\n",
    "for col_y in col_list:\n",
    "    # 生成特征与目标\n",
    "    X = np.hstack([D2V_HW_X_sp,D2V_X_sp])\n",
    "    Y = data[col_y]\n",
    "    \n",
    "    if len(Y.unique()) > 2:\n",
    "        Y[Y==6] = 0\n",
    "    else:\n",
    "        Y[Y==2] = 0\n",
    "    # 交叉检验\n",
    "    KF = KFold(\n",
    "        n_splits=3, # 折叠次数；拆分数量\n",
    "        shuffle=True, # 是否在拆分成批之前对数据进行混洗\n",
    "     )\n",
    "    for k,(tr,te) in enumerate(KF.split(X,Y)):\n",
    "        # 训练集与测试集划分\n",
    "        X_train = X.take(tr,axis = 0) # numpy按行取值\n",
    "        X_test = X.take(te,axis = 0) \n",
    "        y_train = Y[tr]\n",
    "        y_test = Y[te]\n",
    "\n",
    "        print('{} {} stack:{}  XGB_Model'.format(datetime.now(),col_y,k+1),end=\"\\t\")\n",
    "        XGB_Model = BF_XGB_Model(X_train, X_test, y_train, y_test) # NN模型构建及训练\n",
    "        Model_ACC_proba(XGB_Model,X_train, X_test, y_train, y_test) # 测试泛化效果\n",
    "    XGB_pred = XGB_Model.predict_proba(X) # 输出概率结果\n",
    "    pred_dict[col_y] = XGB_pred # 保存结果\n"
   ]
  },
  {
   "cell_type": "code",
   "execution_count": 110,
   "metadata": {},
   "outputs": [
    {
     "name": "stdout",
     "output_type": "stream",
     "text": [
      "2023-03-08 14:29:58.122976 Educationstack:1  XGB_Model\t训练集准确度: 0.989292, 测试集准确度: 0.551496\n",
      "2023-03-08 14:30:28.012006 Educationstack:2  XGB_Model\t训练集准确度: 0.989207, 测试集准确度: 0.538239\n",
      "2023-03-08 14:30:58.153359 Educationstack:3  XGB_Model\t训练集准确度: 0.988528, 测试集准确度: 0.541730\n",
      "2023-03-08 14:31:28.200964 agestack:1  XGB_Model\t训练集准确度: 0.990567, 测试集准确度: 0.524643\n",
      "2023-03-08 14:31:58.675426 agestack:2  XGB_Model\t训练集准确度: 0.990652, 测试集准确度: 0.521244\n",
      "2023-03-08 14:32:29.267575 agestack:3  XGB_Model\t训练集准确度: 0.991417, 测试集准确度: 0.512324\n",
      "2023-03-08 14:32:59.929541 genderstack:1  XGB_Model\t训练集准确度: 0.991842, 测试集准确度: 0.788239\n",
      "2023-03-08 14:33:12.062074 genderstack:2  XGB_Model\t训练集准确度: 0.992691, 测试集准确度: 0.782291\n",
      "2023-03-08 14:33:24.178654 genderstack:3  XGB_Model\t训练集准确度: 0.991247, 测试集准确度: 0.783104\n"
     ]
    }
   ],
   "source": [
    "pred_dict = {}\n",
    "for col_y in col_list:\n",
    "    # 生成特征与目标\n",
    "    X = np.hstack([D2V_HW_X_sp,D2V_X_sp])\n",
    "    Y = data[col_y]\n",
    "    \n",
    "    if len(Y.unique()) > 2:\n",
    "        Y[Y==6] = 0\n",
    "    else:\n",
    "        Y[Y==2] = 0\n",
    "    # 交叉检验\n",
    "    KF = KFold(\n",
    "        n_splits=3, # 折叠次数；拆分数量\n",
    "        shuffle=True, # 是否在拆分成批之前对数据进行混洗\n",
    "     )\n",
    "    for k,(tr,te) in enumerate(KF.split(X,Y)):\n",
    "        # 训练集与测试集划分\n",
    "        X_train = X.take(tr,axis = 0) # numpy按行取值\n",
    "        X_test = X.take(te,axis = 0) \n",
    "        y_train = Y[tr]\n",
    "        y_test = Y[te]\n",
    "\n",
    "        print('{} {}stack:{}  XGB_Model'.format(datetime.now(),col_y,k+1),end=\"\\t\")\n",
    "        XGB_Model = BF_XGB_Model(X_train, X_test, y_train, y_test) # NN模型构建及训练\n",
    "        Model_ACC_proba(XGB_Model,X_train, X_test, y_train, y_test) # 测试泛化效果\n",
    "    XGB_pred = XGB_Model.predict_proba(X) # 输出概率结果\n",
    "    pred_dict[col_y] = XGB_pred # 保存结果\n"
   ]
  },
  {
   "cell_type": "code",
   "execution_count": 17,
   "metadata": {},
   "outputs": [],
   "source": [
    "first_floor_pred_XGB = np.hstack([pred_dict[\"Education\"],pred_dict[\"age\"],pred_dict[\"gender\"]])"
   ]
  },
  {
   "cell_type": "code",
   "execution_count": 19,
   "metadata": {},
   "outputs": [
    {
     "data": {
      "text/plain": [
       "(17651, 28)"
      ]
     },
     "execution_count": 19,
     "metadata": {},
     "output_type": "execute_result"
    }
   ],
   "source": [
    "np.hstack([first_floor_pred_XGB,AF_nn_pred]).shape"
   ]
  },
  {
   "cell_type": "code",
   "execution_count": 84,
   "metadata": {},
   "outputs": [],
   "source": [
    "# 划分数据集\n",
    "X_tr, X_te, Y_tr, Y_te = get_train_test(np.hstack([first_floor_pred_XGB,AF_nn_pred]),data[\"Education\"])"
   ]
  },
  {
   "cell_type": "code",
   "execution_count": 20,
   "metadata": {},
   "outputs": [],
   "source": [
    "# 划分数据集\n",
    "X_tr, X_te, Y_tr, Y_te = get_train_test(first_floor_pred_XGB,data[\"Education\"])"
   ]
  },
  {
   "cell_type": "code",
   "execution_count": 116,
   "metadata": {},
   "outputs": [
    {
     "data": {
      "text/plain": [
       "(12355, 14)"
      ]
     },
     "execution_count": 116,
     "metadata": {},
     "output_type": "execute_result"
    }
   ],
   "source": [
    "X_tr.shape"
   ]
  },
  {
   "cell_type": "code",
   "execution_count": 117,
   "metadata": {},
   "outputs": [
    {
     "data": {
      "text/plain": [
       "(5296, 14)"
      ]
     },
     "execution_count": 117,
     "metadata": {},
     "output_type": "execute_result"
    }
   ],
   "source": [
    "X_te.shape"
   ]
  },
  {
   "cell_type": "code",
   "execution_count": 21,
   "metadata": {},
   "outputs": [
    {
     "name": "stdout",
     "output_type": "stream",
     "text": [
      "训练集准确度: 0.838365, 测试集准确度: 0.828927\n"
     ]
    }
   ],
   "source": [
    "nn = BF_nn_Model(X_tr, X_te, Y_tr, Y_te)\n",
    "Model_ACC_proba(nn,X_tr, X_te, Y_tr, Y_te)"
   ]
  },
  {
   "cell_type": "code",
   "execution_count": 22,
   "metadata": {},
   "outputs": [
    {
     "name": "stdout",
     "output_type": "stream",
     "text": [
      "训练集准确度: 0.844031, 测试集准确度: 0.835536\n"
     ]
    }
   ],
   "source": [
    "lr = LogisticRegression(max_iter=100000)\n",
    "lr.fit(X_tr,Y_tr)\n",
    "Model_ACC(lr,X_tr, X_te, Y_tr, Y_te)"
   ]
  },
  {
   "cell_type": "code",
   "execution_count": 23,
   "metadata": {},
   "outputs": [
    {
     "name": "stdout",
     "output_type": "stream",
     "text": [
      "训练集准确度: 0.853420, 测试集准确度: 0.842145\n"
     ]
    }
   ],
   "source": [
    "# 模型实例化\n",
    "clf = svm.SVC(probability=True)\n",
    "clf.fit(X_tr,Y_tr) # 模型训练\n",
    "Model_ACC(clf,X_tr, X_te, Y_tr, Y_te)"
   ]
  },
  {
   "cell_type": "code",
   "execution_count": null,
   "metadata": {},
   "outputs": [],
   "source": []
  },
  {
   "cell_type": "code",
   "execution_count": null,
   "metadata": {},
   "outputs": [],
   "source": []
  },
  {
   "cell_type": "code",
   "execution_count": null,
   "metadata": {},
   "outputs": [],
   "source": []
  },
  {
   "cell_type": "code",
   "execution_count": null,
   "metadata": {},
   "outputs": [],
   "source": []
  }
 ],
 "metadata": {
  "kernelspec": {
   "display_name": "Python 3",
   "language": "python",
   "name": "python3"
  },
  "language_info": {
   "codemirror_mode": {
    "name": "ipython",
    "version": 3
   },
   "file_extension": ".py",
   "mimetype": "text/x-python",
   "name": "python",
   "nbconvert_exporter": "python",
   "pygments_lexer": "ipython3",
   "version": "3.6.5"
  }
 },
 "nbformat": 4,
 "nbformat_minor": 2
}
